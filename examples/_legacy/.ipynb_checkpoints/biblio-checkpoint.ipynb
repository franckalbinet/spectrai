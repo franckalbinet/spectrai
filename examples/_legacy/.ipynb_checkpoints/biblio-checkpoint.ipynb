{
 "cells": [
  {
   "cell_type": "code",
   "execution_count": 2,
   "metadata": {},
   "outputs": [],
   "source": [
    "import scholarly"
   ]
  },
  {
   "cell_type": "code",
   "execution_count": 3,
   "metadata": {},
   "outputs": [
    {
     "name": "stdout",
     "output_type": "stream",
     "text": [
      "{'_filled': False,\n",
      " 'affiliation': 'Assistant Project Scientist, University of California, '\n",
      "                'Berkeley',\n",
      " 'citedby': 235,\n",
      " 'email': '@berkeley.edu',\n",
      " 'id': '4bahYMkAAAAJ',\n",
      " 'interests': ['Depth Cues',\n",
      "               '3D Shape',\n",
      "               'Shape from Texture & Shading',\n",
      "               'Naive Physics',\n",
      "               'Haptics'],\n",
      " 'name': 'Steven A. Cholewiak',\n",
      " 'url_picture': 'https://scholar.google.com/citations?view_op=medium_photo&user=4bahYMkAAAAJ'}\n"
     ]
    }
   ],
   "source": [
    "print(next(scholarly.search_author('Steven A. Cholewiak')))"
   ]
  },
  {
   "cell_type": "code",
   "execution_count": 4,
   "metadata": {},
   "outputs": [],
   "source": [
    " search_query = scholarly.search_pubs_query('Perception of physical stability and center of mass of 3D objects')"
   ]
  },
  {
   "cell_type": "code",
   "execution_count": 5,
   "metadata": {},
   "outputs": [
    {
     "name": "stdout",
     "output_type": "stream",
     "text": [
      "{'_filled': False,\n",
      " 'bib': {'abstract': 'Humans can judge from vision alone whether an object is '\n",
      "                     'physically stable or not. Such judgments allow observers '\n",
      "                     'to predict the physical behavior of objects, and hence '\n",
      "                     'to guide their motor actions. We investigated the visual '\n",
      "                     'estimation of physical stability of 3-D objects (shown '\n",
      "                     'in stereoscopically viewed rendered scenes) and how it '\n",
      "                     'relates to visual estimates of their center of mass '\n",
      "                     '(COM). In Experiment 1, observers viewed an object near '\n",
      "                     'the edge of a table and adjusted its tilt to the '\n",
      "                     'perceived critical angle, ie, the tilt angle at which '\n",
      "                     'the object …',\n",
      "         'author': 'SA Cholewiak and RW Fleming and M Singh',\n",
      "         'eprint': 'https://jov.arvojournals.org/article.aspx?articleID=2213254',\n",
      "         'title': 'Perception of physical stability and center of mass of 3-D '\n",
      "                  'objects',\n",
      "         'url': 'https://jov.arvojournals.org/article.aspx?articleID=2213254'},\n",
      " 'source': 'scholar'}\n"
     ]
    }
   ],
   "source": [
    " print(next(search_query))"
   ]
  },
  {
   "cell_type": "code",
   "execution_count": 6,
   "metadata": {},
   "outputs": [
    {
     "name": "stdout",
     "output_type": "stream",
     "text": [
      "{'_filled': True,\n",
      " 'affiliation': 'Assistant Project Scientist, University of California, '\n",
      "                'Berkeley',\n",
      " 'citedby': 235,\n",
      " 'citedby5y': 176,\n",
      " 'cites_per_year': {2008: 2,\n",
      "                    2009: 5,\n",
      "                    2010: 6,\n",
      "                    2011: 10,\n",
      "                    2012: 21,\n",
      "                    2013: 15,\n",
      "                    2014: 16,\n",
      "                    2015: 16,\n",
      "                    2016: 38,\n",
      "                    2017: 28,\n",
      "                    2018: 32,\n",
      "                    2019: 45},\n",
      " 'coauthors': [<scholarly.scholarly.Author object at 0x7f3c2c7d3ac8>,\n",
      "               <scholarly.scholarly.Author object at 0x7f3c2c7d38d0>,\n",
      "               <scholarly.scholarly.Author object at 0x7f3c2c7d3b00>,\n",
      "               <scholarly.scholarly.Author object at 0x7f3c2c7d3b38>,\n",
      "               <scholarly.scholarly.Author object at 0x7f3c2c7d3b70>,\n",
      "               <scholarly.scholarly.Author object at 0x7f3c2c7d3ba8>,\n",
      "               <scholarly.scholarly.Author object at 0x7f3c2c7d3be0>,\n",
      "               <scholarly.scholarly.Author object at 0x7f3c2c7d3c18>,\n",
      "               <scholarly.scholarly.Author object at 0x7f3c2c7d3c50>,\n",
      "               <scholarly.scholarly.Author object at 0x7f3c2c7d3c88>,\n",
      "               <scholarly.scholarly.Author object at 0x7f3c2c7d3cc0>,\n",
      "               <scholarly.scholarly.Author object at 0x7f3c2c7d3cf8>,\n",
      "               <scholarly.scholarly.Author object at 0x7f3c2c7d3d30>,\n",
      "               <scholarly.scholarly.Author object at 0x7f3c2c7d3d68>,\n",
      "               <scholarly.scholarly.Author object at 0x7f3c2c7d3dd8>,\n",
      "               <scholarly.scholarly.Author object at 0x7f3c2c7d3e10>,\n",
      "               <scholarly.scholarly.Author object at 0x7f3c2c7d3e48>,\n",
      "               <scholarly.scholarly.Author object at 0x7f3c2c7d3e80>,\n",
      "               <scholarly.scholarly.Author object at 0x7f3c2c7d3eb8>,\n",
      "               <scholarly.scholarly.Author object at 0x7f3c2c7d3ef0>],\n",
      " 'email': '@berkeley.edu',\n",
      " 'hindex': 7,\n",
      " 'hindex5y': 7,\n",
      " 'i10index': 7,\n",
      " 'i10index5y': 6,\n",
      " 'id': '4bahYMkAAAAJ',\n",
      " 'interests': ['Depth Cues',\n",
      "               '3D Shape',\n",
      "               'Shape from Texture & Shading',\n",
      "               'Naive Physics',\n",
      "               'Haptics'],\n",
      " 'name': 'Steven A. Cholewiak',\n",
      " 'publications': [<scholarly.scholarly.Publication object at 0x7f3c2c7d3f28>,\n",
      "                  <scholarly.scholarly.Publication object at 0x7f3c2c7d3fd0>,\n",
      "                  <scholarly.scholarly.Publication object at 0x7f3c2c7d3f98>,\n",
      "                  <scholarly.scholarly.Publication object at 0x7f3c2c7d3f60>,\n",
      "                  <scholarly.scholarly.Publication object at 0x7f3c2c7da048>,\n",
      "                  <scholarly.scholarly.Publication object at 0x7f3c2c7da080>,\n",
      "                  <scholarly.scholarly.Publication object at 0x7f3c2c7da0b8>,\n",
      "                  <scholarly.scholarly.Publication object at 0x7f3c2c7da0f0>,\n",
      "                  <scholarly.scholarly.Publication object at 0x7f3c2c7da128>,\n",
      "                  <scholarly.scholarly.Publication object at 0x7f3c2c7da160>,\n",
      "                  <scholarly.scholarly.Publication object at 0x7f3c2c7da198>,\n",
      "                  <scholarly.scholarly.Publication object at 0x7f3c2c7da1d0>,\n",
      "                  <scholarly.scholarly.Publication object at 0x7f3c2c7da208>,\n",
      "                  <scholarly.scholarly.Publication object at 0x7f3c2c7da240>,\n",
      "                  <scholarly.scholarly.Publication object at 0x7f3c2c7da278>,\n",
      "                  <scholarly.scholarly.Publication object at 0x7f3c2c7da2b0>,\n",
      "                  <scholarly.scholarly.Publication object at 0x7f3c2c7da2e8>,\n",
      "                  <scholarly.scholarly.Publication object at 0x7f3c2c7da320>,\n",
      "                  <scholarly.scholarly.Publication object at 0x7f3c2c7da358>,\n",
      "                  <scholarly.scholarly.Publication object at 0x7f3c2c7da390>,\n",
      "                  <scholarly.scholarly.Publication object at 0x7f3c2c7da3c8>,\n",
      "                  <scholarly.scholarly.Publication object at 0x7f3c2c7da400>,\n",
      "                  <scholarly.scholarly.Publication object at 0x7f3c2c7da438>,\n",
      "                  <scholarly.scholarly.Publication object at 0x7f3c2c7da470>,\n",
      "                  <scholarly.scholarly.Publication object at 0x7f3c2c7da4a8>,\n",
      "                  <scholarly.scholarly.Publication object at 0x7f3c2c7da4e0>,\n",
      "                  <scholarly.scholarly.Publication object at 0x7f3c2c7da518>,\n",
      "                  <scholarly.scholarly.Publication object at 0x7f3c2c7da550>,\n",
      "                  <scholarly.scholarly.Publication object at 0x7f3c2c7da588>,\n",
      "                  <scholarly.scholarly.Publication object at 0x7f3c2c7da5c0>,\n",
      "                  <scholarly.scholarly.Publication object at 0x7f3c2c7da5f8>,\n",
      "                  <scholarly.scholarly.Publication object at 0x7f3c2c7da630>,\n",
      "                  <scholarly.scholarly.Publication object at 0x7f3c2c7da668>,\n",
      "                  <scholarly.scholarly.Publication object at 0x7f3c2c7da6a0>,\n",
      "                  <scholarly.scholarly.Publication object at 0x7f3c2c7da6d8>,\n",
      "                  <scholarly.scholarly.Publication object at 0x7f3c2c7da710>,\n",
      "                  <scholarly.scholarly.Publication object at 0x7f3c2c7da748>,\n",
      "                  <scholarly.scholarly.Publication object at 0x7f3c2c7da780>,\n",
      "                  <scholarly.scholarly.Publication object at 0x7f3c2c7da7b8>,\n",
      "                  <scholarly.scholarly.Publication object at 0x7f3c2c7da7f0>,\n",
      "                  <scholarly.scholarly.Publication object at 0x7f3c2c7da828>,\n",
      "                  <scholarly.scholarly.Publication object at 0x7f3c2c7da860>,\n",
      "                  <scholarly.scholarly.Publication object at 0x7f3c2c7da898>,\n",
      "                  <scholarly.scholarly.Publication object at 0x7f3c2c7da8d0>,\n",
      "                  <scholarly.scholarly.Publication object at 0x7f3c2c7da908>,\n",
      "                  <scholarly.scholarly.Publication object at 0x7f3c2c7da940>,\n",
      "                  <scholarly.scholarly.Publication object at 0x7f3c2c7da978>,\n",
      "                  <scholarly.scholarly.Publication object at 0x7f3c2c7da9b0>],\n",
      " 'url_picture': 'https://scholar.google.com/citations?view_op=medium_photo&user=4bahYMkAAAAJ'}\n",
      "['A frequency-domain analysis of haptic gratings', 'Haptic identification of stiffness and force magnitude', 'Inferring the intentional states of autonomous virtual agents', 'Visual perception of the physical stability of asymmetric three-dimensional objects', 'ChromaBlur: Rendering chromatic eye aberration improves accommodation and realism', 'Perception of physical stability and center of mass of 3-D objects', 'Discrimination of real and virtual surfaces with sinusoidal and triangular gratings using the fingertip and stylus', 'Perception of intentions and mental states in autonomous virtual agents', 'Agency and rationality: Adopting the intentional stance toward evolved virtual agents.', 'Intra-and intermanual curvature aftereffect can be obtained via tool-touch', 'The perception of physical stability of 3d objects: The role of parts', 'Frequency analysis of the detectability of virtual haptic gratings', 'Varifocal virtuality: a novel optical layout for near-eye display', 'Creating correct blur and its effect on accommodation', 'Colour, contours, shading and shape: flow interactions reveal anchor neighbourhoods', 'ChromaBlur: Rendering Chromatic Eye Aberration Improves Accommodation and Realism in HMDs', 'Distinguishing between texture and shading flows for 3D shape estimation', 'Cutaneous perception', 'Rendering correct blur', 'Appearance controls interpretation of orientation flows for 3D shape estimation', 'Limits on the estimation of shape from specular surfaces', 'Predicting 3D shape perception from shading and texture flows', 'Towards a unified explanation of shape from shading and texture', 'The tipping point: Visual estimation of the physical stability of three-dimensional objects', 'Perception of Physical Stability of Asymmetrical Three-Dimensional Objects', \"Contributions of foveal and non-foveal retina to the human eye's focusing response\", 'Real-time blur with chromatic aberration drives accommodation and depth perception', 'Peripheral stimulation can override foveal stimulation in driving accommodation', 'PSEUDO LIGHT-FIELD DISPLAY APPARATUS', 'ChromaBlur: Rendering natural chromatic aberration drives accommodation effectively', 'Driving accommodation using simulated higher-order aberrations', 'Modeling Accommodation Control of the Human Eye: Chromatic Aberration and Color Opponency', 'The Dark Secrets of Dirty Concavities', 'What happens to a shiny 3D object in a rotating environment?', 'Effects of varied spatial scale on perception of shape from shiny surfaces', 'Visually disentangling shading and surface pigmentation when the two are correlated', 'Perceptual regions of interest for 3D shape derived from shading and texture flows', 'Visual perception of the physical stability of asymmetric three', 'Visual adaptation to physical stability of objects', 'Curvature aftereffect and visual-haptic interactions in simulated environments', 'On the edge: Perceived stability and center of mass of 3D objects', 'Perceiving intelligent action: Experiments in the interpretation of intentional motion', '2010 Index IEEE Transactions on Haptics Vol. 3', 'Living within a virtual environment populated by intelligent autonomous agents', 'Pain: Physiological mechanisms', 'Perceptual estimation of variance in orientation and its dependence on sample size', 'Haptic stiffness identification and information transfer', 'This manuscript has been accepted for publication at Decision']\n"
     ]
    },
    {
     "name": "stdout",
     "output_type": "stream",
     "text": [
      "{'_filled': True,\n",
      " 'bib': {'abstract': <div class=\"gsc_vcd_value\" id=\"gsc_vcd_descr\"><div class=\"gsh_small\">The detectability and discriminability of virtual haptic gratings were analyzed in the frequency domain. Detection (Exp. 1) and discrimination (Exp. 2) thresholds for virtual haptic gratings were estimated using a force-feedback device that simulated sinusoidal and square-wave gratings with spatial periods from 0.2 to 38.4 mm. The detection threshold results indicated that for spatial periods up to 6.4 mm (i.e., spatial frequencies &gt;0.156 cycle/mm), the detectability of square-wave gratings could be predicted quantitatively from the detection thresholds of their corresponding fundamental components. The discrimination experiment confirmed that at higher spatial frequencies, the square-wave gratings were initially indistinguishable from the corresponding fundamental components until the third harmonics were detectable. At lower spatial frequencies, the third harmonic components of square-wave gratings had lower …</div></div>,\n",
      "         'pages': '3-14',\n",
      "         'title': 'A frequency-domain analysis of haptic gratings',\n",
      "         'url': 'https://ieeexplore.ieee.org/abstract/document/5210096/',\n",
      "         'volume': '3',\n",
      "         'year': 2009},\n",
      " 'citedby': 46,\n",
      " 'id_citations': '4bahYMkAAAAJ:u5HHmVD_uO8C',\n",
      " 'source': 'citations'}\n",
      "[]\n"
     ]
    }
   ],
   "source": [
    "# Retrieve the author's data, fill-in, and print\n",
    "search_query = scholarly.search_author('Steven A Cholewiak')\n",
    "author = next(search_query).fill()\n",
    "print(author)\n",
    "\n",
    "# Print the titles of the author's publications\n",
    "print([pub.bib['title'] for pub in author.publications])\n",
    "\n",
    "# Take a closer look at the first publication\n",
    "pub = author.publications[0].fill()\n",
    "print(pub)\n",
    "\n",
    "# Which papers cited that publication?\n",
    "print([citation.bib['title'] for citation in pub.get_citedby()])"
   ]
  },
  {
   "cell_type": "code",
   "execution_count": null,
   "metadata": {},
   "outputs": [],
   "source": []
  }
 ],
 "metadata": {
  "kernelspec": {
   "display_name": "Python 3",
   "language": "python",
   "name": "python3"
  },
  "language_info": {
   "codemirror_mode": {
    "name": "ipython",
    "version": 3
   },
   "file_extension": ".py",
   "mimetype": "text/x-python",
   "name": "python",
   "nbconvert_exporter": "python",
   "pygments_lexer": "ipython3",
   "version": "3.7.2"
  }
 },
 "nbformat": 4,
 "nbformat_minor": 2
}
