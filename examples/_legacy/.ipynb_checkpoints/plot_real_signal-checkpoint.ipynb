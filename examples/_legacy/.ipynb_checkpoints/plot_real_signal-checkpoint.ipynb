{
 "cells": [
  {
   "cell_type": "code",
   "execution_count": 1,
   "metadata": {},
   "outputs": [],
   "source": [
    "%matplotlib inline"
   ]
  },
  {
   "cell_type": "markdown",
   "metadata": {},
   "source": [
    "\n",
    "Compute the scattering transform of a speech recording\n",
    "======================================================\n",
    "This script loads a speech signal from the free spoken digit dataset (FSDD)\n",
    "of a man pronouncing the word \"zero,\" computes its scattering transform, and\n",
    "displays the zeroth-, first-, and second-order scattering coefficients.\n",
    "\n"
   ]
  },
  {
   "cell_type": "markdown",
   "metadata": {},
   "source": [
    "Preliminaries\n",
    " -------------\n",
    "\n",
    "##############################################################################\n",
    " To handle audio file I/O, we import `os` and `scipy.io.wavfile`.\n",
    "\n"
   ]
  },
  {
   "cell_type": "code",
   "execution_count": 2,
   "metadata": {},
   "outputs": [],
   "source": [
    "import numpy as np\n",
    "import os\n",
    "import scipy.io.wavfile"
   ]
  },
  {
   "cell_type": "markdown",
   "metadata": {},
   "source": [
    "We import `matplotlib` to plot the calculated scattering coefficients.\n",
    "\n"
   ]
  },
  {
   "cell_type": "code",
   "execution_count": 3,
   "metadata": {},
   "outputs": [],
   "source": [
    "import matplotlib.pyplot as plt"
   ]
  },
  {
   "cell_type": "markdown",
   "metadata": {},
   "source": [
    "Finally, we import the `Scattering1D` class from the `scattering` package and\n",
    "the `fetch_fsdd` function from `scattering.datasets`. The `Scattering1D`\n",
    "class is what lets us calculate the scattering transform, while the\n",
    "`fetch_fsdd` function downloads the FSDD, if needed.\n",
    "\n"
   ]
  },
  {
   "cell_type": "code",
   "execution_count": 4,
   "metadata": {},
   "outputs": [],
   "source": [
    "from kymatio.numpy import Scattering1D\n",
    "from kymatio.datasets import fetch_fsdd"
   ]
  },
  {
   "cell_type": "markdown",
   "metadata": {},
   "source": [
    "Scattering setup\n",
    "----------------\n",
    "First, we download the FSDD (if not already downloaded) and read in the\n",
    "recording `0_jackson_0.wav` of a man pronouncing the word \"zero\".\n",
    "\n"
   ]
  },
  {
   "cell_type": "code",
   "execution_count": 5,
   "metadata": {},
   "outputs": [
    {
     "name": "stdout",
     "output_type": "stream",
     "text": [
      "Cloning git repository at  https://github.com/Jakobovski/free-spoken-digit-dataset.git\n"
     ]
    }
   ],
   "source": [
    "info_dataset = fetch_fsdd(verbose=True)\n",
    "\n",
    "file_path = os.path.join(info_dataset['path_dataset'], sorted(info_dataset['files'])[0])\n",
    "_, x = scipy.io.wavfile.read(file_path)"
   ]
  },
  {
   "cell_type": "markdown",
   "metadata": {},
   "source": [
    "Once the recording is in memory, we normalize it.\n",
    "\n"
   ]
  },
  {
   "cell_type": "code",
   "execution_count": null,
   "metadata": {},
   "outputs": [],
   "source": [
    "x = x / np.max(np.abs(x))"
   ]
  },
  {
   "cell_type": "markdown",
   "metadata": {},
   "source": [
    "We are now ready to set up the parameters for the scattering transform.\n",
    "First, the number of samples, `T`, is given by the size of our input `x`.\n",
    "The averaging scale is specified as a power of two, `2**J`. Here, we set\n",
    "`J = 6` to get an averaging, or maximum, scattering scale of `2**6 = 64`\n",
    "samples. Finally, we set the number of wavelets per octave, `Q`, to `16`.\n",
    "This lets us resolve frequencies at a resolution of `1/16` octaves.\n",
    "\n"
   ]
  },
  {
   "cell_type": "code",
   "execution_count": null,
   "metadata": {},
   "outputs": [],
   "source": [
    "T = x.shape[-1]\n",
    "J = 6\n",
    "Q = 16"
   ]
  },
  {
   "cell_type": "markdown",
   "metadata": {},
   "source": [
    "Finally, we are able to create the object which computes our scattering\n",
    "transform, `scattering`.\n",
    "\n"
   ]
  },
  {
   "cell_type": "code",
   "execution_count": null,
   "metadata": {},
   "outputs": [],
   "source": [
    "scattering = Scattering1D(J, T, Q)"
   ]
  },
  {
   "cell_type": "markdown",
   "metadata": {},
   "source": [
    "Compute and display the scattering coefficients\n",
    "-----------------------------------------------\n",
    "Computing the scattering transform of a signal is achieved using the\n",
    "`__call__` method of the `Scattering1D` class. The output is an array of\n",
    "shape `(C, T)`. Here, `C` is the number of scattering coefficient outputs,\n",
    "and `T` is the number of samples along the time axis. This is typically much\n",
    "smaller than the number of input samples since the scattering transform\n",
    "performs an average in time and subsamples the result to save memory.\n",
    "\n"
   ]
  },
  {
   "cell_type": "code",
   "execution_count": null,
   "metadata": {},
   "outputs": [],
   "source": [
    "Sx = scattering(x)"
   ]
  },
  {
   "cell_type": "markdown",
   "metadata": {},
   "source": [
    "To display the scattering coefficients, we must first identify which belong\n",
    "to each order (zeroth, first, or second). We do this by extracting the `meta`\n",
    "information from the scattering object and constructing masks for each order.\n",
    "\n"
   ]
  },
  {
   "cell_type": "code",
   "execution_count": null,
   "metadata": {},
   "outputs": [],
   "source": [
    "meta = scattering.meta()\n",
    "order0 = np.where(meta['order'] == 0)\n",
    "order1 = np.where(meta['order'] == 1)\n",
    "order2 = np.where(meta['order'] == 2)"
   ]
  },
  {
   "cell_type": "markdown",
   "metadata": {},
   "source": [
    "First, we plot the original signal `x`.\n",
    "\n"
   ]
  },
  {
   "cell_type": "code",
   "execution_count": null,
   "metadata": {},
   "outputs": [],
   "source": [
    "plt.figure(figsize=(8, 2))\n",
    "plt.plot(x)\n",
    "plt.title('Original signal')"
   ]
  },
  {
   "cell_type": "markdown",
   "metadata": {},
   "source": [
    "We now plot the zeroth-order scattering coefficient, which is simply an\n",
    "average of the original signal at the scale `2**J`.\n",
    "\n"
   ]
  },
  {
   "cell_type": "code",
   "execution_count": null,
   "metadata": {},
   "outputs": [],
   "source": [
    "plt.figure(figsize=(8, 8))\n",
    "plt.subplot(3, 1, 1)\n",
    "plt.plot(Sx[order0][0])\n",
    "plt.title('Zeroth-order scattering')"
   ]
  },
  {
   "cell_type": "markdown",
   "metadata": {},
   "source": [
    "We then plot the first-order coefficients, which are arranged along time\n",
    "and log-frequency.\n",
    "\n"
   ]
  },
  {
   "cell_type": "code",
   "execution_count": null,
   "metadata": {},
   "outputs": [],
   "source": [
    "plt.subplot(3, 1, 2)\n",
    "plt.imshow(Sx[order1], aspect='auto')\n",
    "plt.title('First-order scattering')"
   ]
  },
  {
   "cell_type": "markdown",
   "metadata": {},
   "source": [
    "Finally, we plot the second-order scattering coefficients. These are also\n",
    "organized aling time, but has two log-frequency indices: one first-order\n",
    "frequency and one second-order frequency. Here, both indices are mixed along\n",
    "the vertical axis.\n",
    "\n"
   ]
  },
  {
   "cell_type": "code",
   "execution_count": null,
   "metadata": {},
   "outputs": [],
   "source": [
    "plt.subplot(3, 1, 3)\n",
    "plt.imshow(Sx[order2], aspect='auto')\n",
    "plt.title('Second-order scattering')"
   ]
  },
  {
   "cell_type": "markdown",
   "metadata": {},
   "source": [
    "Display the plots!\n",
    "\n"
   ]
  },
  {
   "cell_type": "code",
   "execution_count": null,
   "metadata": {},
   "outputs": [],
   "source": [
    "plt.show()"
   ]
  }
 ],
 "metadata": {
  "kernelspec": {
   "display_name": "Python 3",
   "language": "python",
   "name": "python3"
  },
  "language_info": {
   "codemirror_mode": {
    "name": "ipython",
    "version": 3
   },
   "file_extension": ".py",
   "mimetype": "text/x-python",
   "name": "python",
   "nbconvert_exporter": "python",
   "pygments_lexer": "ipython3",
   "version": "3.7.2"
  }
 },
 "nbformat": 4,
 "nbformat_minor": 1
}
