{
  "nbformat": 4,
  "nbformat_minor": 0,
  "metadata": {
    "colab": {
      "name": "predicting-with-cnn.ipynb",
      "provenance": [],
      "collapsed_sections": [],
      "toc_visible": true
    },
    "kernelspec": {
      "name": "python3",
      "display_name": "Python 3"
    },
    "accelerator": "GPU"
  },
  "cells": [
    {
      "cell_type": "markdown",
      "metadata": {
        "id": "X4NoCRShyjXI",
        "colab_type": "text"
      },
      "source": [
        "PREDICTING WITH CONVOLUTIONAL NEURAL NETWORKS\n",
        "\n",
        "---\n",
        "\n",
        "\n"
      ]
    },
    {
      "cell_type": "markdown",
      "metadata": {
        "id": "uhzAXOkEyGfr",
        "colab_type": "text"
      },
      "source": [
        "### 1. Google Colab runtime setup [Optional]"
      ]
    },
    {
      "cell_type": "code",
      "metadata": {
        "id": "uRCYfF4UquJc",
        "colab_type": "code",
        "colab": {
          "base_uri": "https://localhost:8080/",
          "height": 34
        },
        "outputId": "1f6bfac9-584e-4755-9c56-9946f92b28c4"
      },
      "source": [
        "from google.colab import drive\n",
        "drive.mount('/content/drive')"
      ],
      "execution_count": 1,
      "outputs": [
        {
          "output_type": "stream",
          "text": [
            "Drive already mounted at /content/drive; to attempt to forcibly remount, call drive.mount(\"/content/drive\", force_remount=True).\n"
          ],
          "name": "stdout"
        }
      ]
    },
    {
      "cell_type": "code",
      "metadata": {
        "id": "Sx0mHTxnw-vY",
        "colab_type": "code",
        "colab": {}
      },
      "source": [
        "# Clone and install spectrai package \n",
        "!git clone https://github.com/franckalbinet/spectrai.git \n",
        "!pip install /content/spectrai "
      ],
      "execution_count": null,
      "outputs": []
    },
    {
      "cell_type": "code",
      "metadata": {
        "id": "1fvPwD8z2qTe",
        "colab_type": "code",
        "colab": {}
      },
      "source": [
        "# Prepare /root folder content\n",
        "!cp -r /content/drive/My\\ Drive/Colab\\ Notebooks/data/data_spectrai /root"
      ],
      "execution_count": 1,
      "outputs": []
    },
    {
      "cell_type": "code",
      "metadata": {
        "id": "g3fC41eDpIw1",
        "colab_type": "code",
        "colab": {}
      },
      "source": [
        "# Create configuration file\n",
        "!mkdir /root/.spectrai_config & cp /content/spectrai/config.toml /root/.spectrai_config"
      ],
      "execution_count": 2,
      "outputs": []
    },
    {
      "cell_type": "markdown",
      "metadata": {
        "id": "Zzmdr5mK523P",
        "colab_type": "text"
      },
      "source": [
        "### 2. Import packages"
      ]
    },
    {
      "cell_type": "code",
      "metadata": {
        "id": "RGWZ-Xbyujgl",
        "colab_type": "code",
        "colab": {}
      },
      "source": [
        "# To train on a GPU\n",
        "!pip install tensorflow-gpu"
      ],
      "execution_count": null,
      "outputs": []
    },
    {
      "cell_type": "code",
      "metadata": {
        "id": "ewCTaC6xtYzX",
        "colab_type": "code",
        "colab": {}
      },
      "source": [
        "from spectrai.datasets.kssl import (get_tax_orders_lookup_tbl, load_data)\n",
        "from spectrai.vis.spectra import (plot_spectra)\n",
        "from spectrai.metrics.keras import rpd\n",
        "\n",
        "from sklearn.preprocessing import MinMaxScaler\n",
        "from sklearn.model_selection import train_test_split\n",
        "from sklearn.metrics import mean_squared_error, r2_score\n",
        "\n",
        "import numpy as np\n",
        "\n",
        "from tensorflow import keras\n",
        "from tensorflow.keras.optimizers import RMSprop\n",
        "from tensorflow.keras import layers, models, Model\n",
        "import tensorflow.keras.backend as K\n",
        "import tensorflow.keras.utils as utils\n",
        "\n",
        "import matplotlib.pyplot as plt"
      ],
      "execution_count": 7,
      "outputs": []
    },
    {
      "cell_type": "markdown",
      "metadata": {
        "colab_type": "text",
        "id": "gALHwlC-6CNC"
      },
      "source": [
        "### 3. Load KSSL dataset"
      ]
    },
    {
      "cell_type": "code",
      "metadata": {
        "id": "Y7G-mb_-woEF",
        "colab_type": "code",
        "colab": {}
      },
      "source": [
        "# Loading Potassium, NH4OAc\n",
        "X, X_names, y, y_names, instances_id = load_data([725])"
      ],
      "execution_count": 8,
      "outputs": []
    },
    {
      "cell_type": "code",
      "metadata": {
        "id": "bGD3xp-Vwd0N",
        "colab_type": "code",
        "colab": {
          "base_uri": "https://localhost:8080/",
          "height": 105
        },
        "outputId": "7430c519-6e35-4ca7-ffe4-d6b6e59c5422"
      },
      "source": [
        "print('X shape: ', X.shape)\n",
        "print('X approx. memory size: {} MB'.format(X.nbytes // 10**6))\n",
        "print('y approx. memory size: {} MB'.format(y.nbytes // 10**6))\n",
        "print('Wavenumbers: ', X_names)\n",
        "print('Target variable: ', y_names)"
      ],
      "execution_count": 9,
      "outputs": [
        {
          "output_type": "stream",
          "text": [
            "X shape:  (50714, 1764)\n",
            "X approx. memory size: 357 MB\n",
            "y approx. memory size: 1 MB\n",
            "Wavenumbers:  [3999 3997 3995 ...  603  601  599]\n",
            "Target variable:  ['lay_depth_to_top' 'order_id' 'calc_value']\n"
          ],
          "name": "stdout"
        }
      ]
    },
    {
      "cell_type": "markdown",
      "metadata": {
        "id": "xiZkYs57fr6V",
        "colab_type": "text"
      },
      "source": [
        "### 4. Data preparation"
      ]
    },
    {
      "cell_type": "code",
      "metadata": {
        "id": "4RzXRn87bMiK",
        "colab_type": "code",
        "colab": {}
      },
      "source": [
        "# Keeping data with analyte concentration > 0 only\n",
        "idx_y_valid = y[:, -1] > 0\n",
        "X = X[idx_y_valid,:]\n",
        "y = y[idx_y_valid,:]\n",
        "\n",
        "# Note that we do not apply Savitsky-Golay derivation/filtering as it\n",
        "# is assumed that such feature engineering is performed automaticlly by a CNN. \n",
        "\n",
        "# Scale data\n",
        "scaler = MinMaxScaler()\n",
        "X = scaler.fit_transform(X)"
      ],
      "execution_count": 10,
      "outputs": []
    },
    {
      "cell_type": "code",
      "metadata": {
        "id": "zE-T-mxAdUwp",
        "colab_type": "code",
        "colab": {
          "base_uri": "https://localhost:8080/",
          "height": 87
        },
        "outputId": "0dba910a-0f9a-4967-ba87-5120d5b55730"
      },
      "source": [
        "# Creating train, valid, test sets\n",
        "X, X_test, y, y_test = train_test_split(X, y[:, -1], test_size=0.20, random_state=42)\n",
        "X_train, X_valid, y_train, y_valid = train_test_split(X, y, test_size=0.20, random_state=42)\n",
        "\n",
        "print('X test shape: ', X_test.shape)\n",
        "print('X valid shape: ', X_valid.shape)\n",
        "print('X train shape: ', X_train.shape)\n",
        "print('y train shape: ', y_train.shape)"
      ],
      "execution_count": 11,
      "outputs": [
        {
          "output_type": "stream",
          "text": [
            "X test shape:  (9728, 1764)\n",
            "X valid shape:  (7782, 1764)\n",
            "X train shape:  (31126, 1764)\n",
            "y train shape:  (31126,)\n"
          ],
          "name": "stdout"
        }
      ]
    },
    {
      "cell_type": "markdown",
      "metadata": {
        "id": "vFmi0bJPfyxG",
        "colab_type": "text"
      },
      "source": [
        "### 5. Defining CNN model"
      ]
    },
    {
      "cell_type": "code",
      "metadata": {
        "id": "06NmWsz9d70E",
        "colab_type": "code",
        "colab": {
          "base_uri": "https://localhost:8080/",
          "height": 798
        },
        "outputId": "4d3a70c5-f12e-4b3d-b805-950278534a1d"
      },
      "source": [
        "activation = 'relu'\n",
        "input_dim = X_train.shape[1]\n",
        "\n",
        "model = keras.models.Sequential()\n",
        "model.add(layers.Reshape((input_dim, 1), input_shape=(input_dim,)))\n",
        "\n",
        "model.add(layers.BatchNormalization())\n",
        "model.add(layers.Conv1D(32, 30, activation=activation))\n",
        "model.add(layers.MaxPool1D(4))\n",
        "\n",
        "model.add(layers.BatchNormalization())\n",
        "model.add(layers.Conv1D(64, 30, activation=activation))\n",
        "model.add(layers.MaxPool1D(4))\n",
        "\n",
        "model.add(layers.BatchNormalization())\n",
        "model.add(layers.Conv1D(128, 30, activation=activation))\n",
        "model.add(layers.MaxPool1D(4))\n",
        "\n",
        "#model.add(layers.Dropout(rate=0.4))\n",
        "\n",
        "model.add(layers.Flatten())\n",
        "\n",
        "model.add(layers.BatchNormalization())\n",
        "model.add(layers.Dense(100, activation=activation))\n",
        "\n",
        "model.add(layers.BatchNormalization())\n",
        "model.add(layers.Dense(50, activation=activation))\n",
        "\n",
        "model.add(layers.BatchNormalization())\n",
        "model.add(layers.Dense(10, activation=activation))\n",
        "\n",
        "#model.add(layers.Dropout(rate=0.2))\n",
        "\n",
        "model.add(layers.Dense(1,  activation='linear'))\n",
        "\n",
        "model.compile(optimizer=RMSprop(learning_rate=1e-4), loss='mse', metrics=[rpd])\n",
        "model.summary()"
      ],
      "execution_count": 14,
      "outputs": [
        {
          "output_type": "stream",
          "text": [
            "Model: \"sequential_1\"\n",
            "_________________________________________________________________\n",
            "Layer (type)                 Output Shape              Param #   \n",
            "=================================================================\n",
            "reshape_1 (Reshape)          (None, 1764, 1)           0         \n",
            "_________________________________________________________________\n",
            "batch_normalization_6 (Batch (None, 1764, 1)           4         \n",
            "_________________________________________________________________\n",
            "conv1d_3 (Conv1D)            (None, 1735, 32)          992       \n",
            "_________________________________________________________________\n",
            "max_pooling1d_3 (MaxPooling1 (None, 433, 32)           0         \n",
            "_________________________________________________________________\n",
            "batch_normalization_7 (Batch (None, 433, 32)           128       \n",
            "_________________________________________________________________\n",
            "conv1d_4 (Conv1D)            (None, 404, 64)           61504     \n",
            "_________________________________________________________________\n",
            "max_pooling1d_4 (MaxPooling1 (None, 101, 64)           0         \n",
            "_________________________________________________________________\n",
            "batch_normalization_8 (Batch (None, 101, 64)           256       \n",
            "_________________________________________________________________\n",
            "conv1d_5 (Conv1D)            (None, 72, 128)           245888    \n",
            "_________________________________________________________________\n",
            "max_pooling1d_5 (MaxPooling1 (None, 18, 128)           0         \n",
            "_________________________________________________________________\n",
            "flatten_1 (Flatten)          (None, 2304)              0         \n",
            "_________________________________________________________________\n",
            "batch_normalization_9 (Batch (None, 2304)              9216      \n",
            "_________________________________________________________________\n",
            "dense_4 (Dense)              (None, 100)               230500    \n",
            "_________________________________________________________________\n",
            "batch_normalization_10 (Batc (None, 100)               400       \n",
            "_________________________________________________________________\n",
            "dense_5 (Dense)              (None, 50)                5050      \n",
            "_________________________________________________________________\n",
            "batch_normalization_11 (Batc (None, 50)                200       \n",
            "_________________________________________________________________\n",
            "dense_6 (Dense)              (None, 10)                510       \n",
            "_________________________________________________________________\n",
            "dense_7 (Dense)              (None, 1)                 11        \n",
            "=================================================================\n",
            "Total params: 554,659\n",
            "Trainable params: 549,557\n",
            "Non-trainable params: 5,102\n",
            "_________________________________________________________________\n"
          ],
          "name": "stdout"
        }
      ]
    },
    {
      "cell_type": "markdown",
      "metadata": {
        "id": "ts4eeoAqhNU9",
        "colab_type": "text"
      },
      "source": [
        "### 6. Training the model"
      ]
    },
    {
      "cell_type": "code",
      "metadata": {
        "id": "V4IXjaigiFCE",
        "colab_type": "code",
        "colab": {
          "base_uri": "https://localhost:8080/",
          "height": 1000
        },
        "outputId": "77d8cbea-5c6f-432a-8a29-0006fab7d889"
      },
      "source": [
        "#reduce_lr = ReduceLROnPlateau(monitor='val_loss', factor=0.2, patience=5, min_lr=1e-4)\n",
        "history2 = model.fit(X_train, y_train, epochs=200, validation_data=(X_valid, y_valid))"
      ],
      "execution_count": 16,
      "outputs": [
        {
          "output_type": "stream",
          "text": [
            "Epoch 1/200\n",
            "973/973 [==============================] - 11s 12ms/step - loss: 0.0562 - rpd: 4.2024 - val_loss: 0.2558 - val_rpd: 2.8597\n",
            "Epoch 2/200\n",
            "973/973 [==============================] - 11s 12ms/step - loss: 0.0547 - rpd: 4.2919 - val_loss: 0.2997 - val_rpd: 2.6946\n",
            "Epoch 3/200\n",
            "973/973 [==============================] - 11s 12ms/step - loss: 0.0558 - rpd: 4.2720 - val_loss: 0.2743 - val_rpd: 2.6635\n",
            "Epoch 4/200\n",
            "973/973 [==============================] - 11s 12ms/step - loss: 0.0566 - rpd: 4.2072 - val_loss: 0.2679 - val_rpd: 2.7204\n",
            "Epoch 5/200\n",
            "973/973 [==============================] - 11s 12ms/step - loss: 0.0541 - rpd: 4.2669 - val_loss: 0.2499 - val_rpd: 2.7438\n",
            "Epoch 6/200\n",
            "973/973 [==============================] - 11s 12ms/step - loss: 0.0532 - rpd: 4.2954 - val_loss: 0.2502 - val_rpd: 2.8252\n",
            "Epoch 7/200\n",
            "973/973 [==============================] - 11s 12ms/step - loss: 0.0569 - rpd: 4.2753 - val_loss: 0.2511 - val_rpd: 2.8176\n",
            "Epoch 8/200\n",
            "973/973 [==============================] - 11s 12ms/step - loss: 0.0558 - rpd: 4.2697 - val_loss: 0.2712 - val_rpd: 2.6895\n",
            "Epoch 9/200\n",
            "973/973 [==============================] - 11s 11ms/step - loss: 0.0527 - rpd: 4.3071 - val_loss: 0.2849 - val_rpd: 2.6550\n",
            "Epoch 10/200\n",
            "973/973 [==============================] - 11s 12ms/step - loss: 0.0543 - rpd: 4.2962 - val_loss: 0.2752 - val_rpd: 2.8051\n",
            "Epoch 11/200\n",
            "973/973 [==============================] - 11s 12ms/step - loss: 0.0514 - rpd: 4.3834 - val_loss: 0.3003 - val_rpd: 2.6995\n",
            "Epoch 12/200\n",
            "973/973 [==============================] - 11s 12ms/step - loss: 0.0525 - rpd: 4.3594 - val_loss: 0.2628 - val_rpd: 2.7762\n",
            "Epoch 13/200\n",
            "973/973 [==============================] - 11s 12ms/step - loss: 0.0528 - rpd: 4.3842 - val_loss: 0.2724 - val_rpd: 2.5714\n",
            "Epoch 14/200\n",
            "973/973 [==============================] - 11s 11ms/step - loss: 0.0518 - rpd: 4.3565 - val_loss: 0.2670 - val_rpd: 2.7560\n",
            "Epoch 15/200\n",
            "973/973 [==============================] - 11s 12ms/step - loss: 0.0540 - rpd: 4.3099 - val_loss: 0.2639 - val_rpd: 2.6979\n",
            "Epoch 16/200\n",
            "973/973 [==============================] - 11s 11ms/step - loss: 0.0499 - rpd: 4.4100 - val_loss: 0.2630 - val_rpd: 2.7552\n",
            "Epoch 17/200\n",
            "973/973 [==============================] - 11s 12ms/step - loss: 0.0525 - rpd: 4.3625 - val_loss: 0.2738 - val_rpd: 2.8069\n",
            "Epoch 18/200\n",
            "973/973 [==============================] - 11s 12ms/step - loss: 0.0499 - rpd: 4.4440 - val_loss: 0.2695 - val_rpd: 2.7173\n",
            "Epoch 19/200\n",
            "973/973 [==============================] - 11s 11ms/step - loss: 0.0517 - rpd: 4.3517 - val_loss: 0.2566 - val_rpd: 2.7408\n",
            "Epoch 20/200\n",
            "973/973 [==============================] - 11s 12ms/step - loss: 0.0534 - rpd: 4.3677 - val_loss: 0.2503 - val_rpd: 2.7293\n",
            "Epoch 21/200\n",
            "973/973 [==============================] - 11s 12ms/step - loss: 0.0506 - rpd: 4.4233 - val_loss: 0.2663 - val_rpd: 2.7213\n",
            "Epoch 22/200\n",
            "973/973 [==============================] - 11s 12ms/step - loss: 0.0510 - rpd: 4.4006 - val_loss: 0.2546 - val_rpd: 2.8243\n",
            "Epoch 23/200\n",
            "973/973 [==============================] - 12s 12ms/step - loss: 0.0507 - rpd: 4.4349 - val_loss: 0.2583 - val_rpd: 2.7909\n",
            "Epoch 24/200\n",
            "973/973 [==============================] - 11s 11ms/step - loss: 0.0516 - rpd: 4.4834 - val_loss: 0.2851 - val_rpd: 2.6953\n",
            "Epoch 25/200\n",
            "973/973 [==============================] - 11s 12ms/step - loss: 0.0513 - rpd: 4.4208 - val_loss: 0.2617 - val_rpd: 2.8095\n",
            "Epoch 26/200\n",
            "973/973 [==============================] - 11s 12ms/step - loss: 0.0479 - rpd: 4.5736 - val_loss: 0.2841 - val_rpd: 2.6587\n",
            "Epoch 27/200\n",
            "973/973 [==============================] - 11s 12ms/step - loss: 0.0503 - rpd: 4.4566 - val_loss: 0.2561 - val_rpd: 2.7736\n",
            "Epoch 28/200\n",
            "973/973 [==============================] - 11s 11ms/step - loss: 0.0482 - rpd: 4.5004 - val_loss: 0.2674 - val_rpd: 2.7741\n",
            "Epoch 29/200\n",
            "973/973 [==============================] - 11s 11ms/step - loss: 0.0500 - rpd: 4.4782 - val_loss: 0.2957 - val_rpd: 2.6962\n",
            "Epoch 30/200\n",
            "973/973 [==============================] - 11s 12ms/step - loss: 0.0471 - rpd: 4.5505 - val_loss: 0.2596 - val_rpd: 2.8405\n",
            "Epoch 31/200\n",
            "973/973 [==============================] - 11s 12ms/step - loss: 0.0478 - rpd: 4.4964 - val_loss: 0.2665 - val_rpd: 2.8275\n",
            "Epoch 32/200\n",
            "973/973 [==============================] - 11s 12ms/step - loss: 0.0463 - rpd: 4.5578 - val_loss: 0.2779 - val_rpd: 2.7669\n",
            "Epoch 33/200\n",
            "973/973 [==============================] - 11s 11ms/step - loss: 0.0495 - rpd: 4.4218 - val_loss: 0.2496 - val_rpd: 2.8258\n",
            "Epoch 34/200\n",
            "973/973 [==============================] - 11s 12ms/step - loss: 0.0471 - rpd: 4.6345 - val_loss: 0.2823 - val_rpd: 2.7574\n",
            "Epoch 35/200\n",
            "973/973 [==============================] - 11s 12ms/step - loss: 0.0478 - rpd: 4.5652 - val_loss: 0.2770 - val_rpd: 2.7827\n",
            "Epoch 36/200\n",
            "973/973 [==============================] - 11s 12ms/step - loss: 0.0471 - rpd: 4.5993 - val_loss: 0.2587 - val_rpd: 2.7652\n",
            "Epoch 37/200\n",
            "973/973 [==============================] - 11s 12ms/step - loss: 0.0477 - rpd: 4.5583 - val_loss: 0.2531 - val_rpd: 2.8094\n",
            "Epoch 38/200\n",
            "973/973 [==============================] - 11s 11ms/step - loss: 0.0458 - rpd: 4.5761 - val_loss: 0.2570 - val_rpd: 2.7455\n",
            "Epoch 39/200\n",
            "973/973 [==============================] - 11s 12ms/step - loss: 0.0483 - rpd: 4.5420 - val_loss: 0.2709 - val_rpd: 2.7936\n",
            "Epoch 40/200\n",
            "973/973 [==============================] - 11s 12ms/step - loss: 0.0463 - rpd: 4.5887 - val_loss: 0.2457 - val_rpd: 2.8574\n",
            "Epoch 41/200\n",
            "973/973 [==============================] - 11s 11ms/step - loss: 0.0476 - rpd: 4.5868 - val_loss: 0.2511 - val_rpd: 2.8614\n",
            "Epoch 42/200\n",
            "973/973 [==============================] - 11s 12ms/step - loss: 0.0477 - rpd: 4.5917 - val_loss: 0.2734 - val_rpd: 2.7396\n",
            "Epoch 43/200\n",
            "973/973 [==============================] - 11s 11ms/step - loss: 0.0473 - rpd: 4.5942 - val_loss: 0.2841 - val_rpd: 2.6802\n",
            "Epoch 44/200\n",
            "973/973 [==============================] - 11s 12ms/step - loss: 0.0451 - rpd: 4.6876 - val_loss: 0.2699 - val_rpd: 2.7131\n",
            "Epoch 45/200\n",
            "973/973 [==============================] - 11s 12ms/step - loss: 0.0451 - rpd: 4.6675 - val_loss: 0.2786 - val_rpd: 2.7026\n",
            "Epoch 46/200\n",
            "973/973 [==============================] - 11s 12ms/step - loss: 0.0460 - rpd: 4.5938 - val_loss: 0.2700 - val_rpd: 2.8130\n",
            "Epoch 47/200\n",
            "973/973 [==============================] - 11s 11ms/step - loss: 0.0455 - rpd: 4.6652 - val_loss: 0.2707 - val_rpd: 2.6731\n",
            "Epoch 48/200\n",
            "973/973 [==============================] - 11s 12ms/step - loss: 0.0463 - rpd: 4.5825 - val_loss: 0.2655 - val_rpd: 2.7311\n",
            "Epoch 49/200\n",
            "973/973 [==============================] - 11s 12ms/step - loss: 0.0472 - rpd: 4.6378 - val_loss: 0.2602 - val_rpd: 2.7612\n",
            "Epoch 50/200\n",
            "973/973 [==============================] - 11s 12ms/step - loss: 0.0447 - rpd: 4.6882 - val_loss: 0.2584 - val_rpd: 2.7784\n",
            "Epoch 51/200\n",
            "973/973 [==============================] - 12s 12ms/step - loss: 0.0444 - rpd: 4.6115 - val_loss: 0.2562 - val_rpd: 2.7281\n",
            "Epoch 52/200\n",
            "973/973 [==============================] - 11s 11ms/step - loss: 0.0461 - rpd: 4.6543 - val_loss: 0.2524 - val_rpd: 2.7701\n",
            "Epoch 53/200\n",
            "973/973 [==============================] - 11s 12ms/step - loss: 0.0444 - rpd: 4.7340 - val_loss: 0.2731 - val_rpd: 2.7814\n",
            "Epoch 54/200\n",
            "973/973 [==============================] - 11s 12ms/step - loss: 0.0455 - rpd: 4.6546 - val_loss: 0.2914 - val_rpd: 2.7802\n",
            "Epoch 55/200\n",
            "973/973 [==============================] - 11s 12ms/step - loss: 0.0447 - rpd: 4.6435 - val_loss: 0.2747 - val_rpd: 2.7874\n",
            "Epoch 56/200\n",
            "973/973 [==============================] - 11s 12ms/step - loss: 0.0446 - rpd: 4.7041 - val_loss: 0.2617 - val_rpd: 2.8048\n",
            "Epoch 57/200\n",
            "973/973 [==============================] - 11s 11ms/step - loss: 0.0450 - rpd: 4.6637 - val_loss: 0.2573 - val_rpd: 2.8252\n",
            "Epoch 58/200\n",
            "973/973 [==============================] - 11s 12ms/step - loss: 0.0437 - rpd: 4.8062 - val_loss: 0.2572 - val_rpd: 2.8318\n",
            "Epoch 59/200\n",
            "973/973 [==============================] - 11s 12ms/step - loss: 0.0424 - rpd: 4.7864 - val_loss: 0.2532 - val_rpd: 2.8153\n",
            "Epoch 60/200\n",
            "973/973 [==============================] - 11s 12ms/step - loss: 0.0440 - rpd: 4.7110 - val_loss: 0.2609 - val_rpd: 2.8187\n",
            "Epoch 61/200\n",
            "973/973 [==============================] - 11s 12ms/step - loss: 0.0443 - rpd: 4.7310 - val_loss: 0.2744 - val_rpd: 2.7521\n",
            "Epoch 62/200\n",
            "973/973 [==============================] - 11s 11ms/step - loss: 0.0435 - rpd: 4.8250 - val_loss: 0.2770 - val_rpd: 2.6773\n",
            "Epoch 63/200\n",
            "973/973 [==============================] - 11s 12ms/step - loss: 0.0432 - rpd: 4.7652 - val_loss: 0.2583 - val_rpd: 2.8165\n",
            "Epoch 64/200\n",
            "973/973 [==============================] - 11s 12ms/step - loss: 0.0417 - rpd: 4.8594 - val_loss: 0.3042 - val_rpd: 2.7319\n",
            "Epoch 65/200\n",
            "973/973 [==============================] - 11s 12ms/step - loss: 0.0427 - rpd: 4.7617 - val_loss: 0.2518 - val_rpd: 2.7931\n",
            "Epoch 66/200\n",
            "973/973 [==============================] - 11s 12ms/step - loss: 0.0425 - rpd: 4.8371 - val_loss: 0.2727 - val_rpd: 2.7345\n",
            "Epoch 67/200\n",
            "973/973 [==============================] - 11s 12ms/step - loss: 0.0426 - rpd: 4.7713 - val_loss: 0.2678 - val_rpd: 2.8847\n",
            "Epoch 68/200\n",
            "973/973 [==============================] - 11s 12ms/step - loss: 0.0422 - rpd: 4.8043 - val_loss: 0.2652 - val_rpd: 2.8573\n",
            "Epoch 69/200\n",
            "973/973 [==============================] - 11s 12ms/step - loss: 0.0433 - rpd: 4.7057 - val_loss: 0.2706 - val_rpd: 2.7454\n",
            "Epoch 70/200\n",
            "973/973 [==============================] - 11s 12ms/step - loss: 0.0424 - rpd: 4.8809 - val_loss: 0.2558 - val_rpd: 2.8035\n",
            "Epoch 71/200\n",
            "973/973 [==============================] - 11s 12ms/step - loss: 0.0423 - rpd: 4.8585 - val_loss: 0.2345 - val_rpd: 2.8423\n",
            "Epoch 72/200\n",
            "973/973 [==============================] - 11s 12ms/step - loss: 0.0420 - rpd: 4.8807 - val_loss: 0.2715 - val_rpd: 2.7959\n",
            "Epoch 73/200\n",
            "973/973 [==============================] - 11s 11ms/step - loss: 0.0417 - rpd: 4.8279 - val_loss: 0.2680 - val_rpd: 2.7936\n",
            "Epoch 74/200\n",
            "973/973 [==============================] - 11s 12ms/step - loss: 0.0412 - rpd: 4.8519 - val_loss: 0.2967 - val_rpd: 2.5916\n",
            "Epoch 75/200\n",
            "973/973 [==============================] - 11s 12ms/step - loss: 0.0420 - rpd: 4.8349 - val_loss: 0.2556 - val_rpd: 2.8216\n",
            "Epoch 76/200\n",
            "973/973 [==============================] - 11s 11ms/step - loss: 0.0404 - rpd: 4.8984 - val_loss: 0.2605 - val_rpd: 2.8043\n",
            "Epoch 77/200\n",
            "973/973 [==============================] - 11s 12ms/step - loss: 0.0419 - rpd: 4.9283 - val_loss: 0.2965 - val_rpd: 2.7239\n",
            "Epoch 78/200\n",
            "973/973 [==============================] - 12s 12ms/step - loss: 0.0414 - rpd: 4.8595 - val_loss: 0.2702 - val_rpd: 2.8364\n",
            "Epoch 79/200\n",
            "973/973 [==============================] - 11s 12ms/step - loss: 0.0412 - rpd: 4.8707 - val_loss: 0.2667 - val_rpd: 2.7167\n",
            "Epoch 80/200\n",
            "973/973 [==============================] - 11s 12ms/step - loss: 0.0409 - rpd: 4.8760 - val_loss: 0.2566 - val_rpd: 2.7816\n",
            "Epoch 81/200\n",
            "973/973 [==============================] - 11s 12ms/step - loss: 0.0403 - rpd: 4.9090 - val_loss: 0.2548 - val_rpd: 2.8955\n",
            "Epoch 82/200\n",
            "973/973 [==============================] - 11s 12ms/step - loss: 0.0420 - rpd: 4.8845 - val_loss: 0.2636 - val_rpd: 2.8064\n",
            "Epoch 83/200\n",
            "973/973 [==============================] - 11s 11ms/step - loss: 0.0402 - rpd: 4.9314 - val_loss: 0.2468 - val_rpd: 2.8679\n",
            "Epoch 84/200\n",
            "973/973 [==============================] - 11s 12ms/step - loss: 0.0402 - rpd: 5.0275 - val_loss: 0.2518 - val_rpd: 2.7759\n",
            "Epoch 85/200\n",
            "973/973 [==============================] - 11s 11ms/step - loss: 0.0403 - rpd: 4.9649 - val_loss: 0.2626 - val_rpd: 2.8416\n",
            "Epoch 86/200\n",
            "973/973 [==============================] - 11s 12ms/step - loss: 0.0403 - rpd: 4.8958 - val_loss: 0.2648 - val_rpd: 2.8371\n",
            "Epoch 87/200\n",
            "973/973 [==============================] - 11s 12ms/step - loss: 0.0399 - rpd: 4.9541 - val_loss: 0.2885 - val_rpd: 2.7569\n",
            "Epoch 88/200\n",
            "973/973 [==============================] - 11s 12ms/step - loss: 0.0399 - rpd: 4.9376 - val_loss: 0.2546 - val_rpd: 2.8816\n",
            "Epoch 89/200\n",
            "973/973 [==============================] - 11s 12ms/step - loss: 0.0408 - rpd: 4.9329 - val_loss: 0.2766 - val_rpd: 2.8093\n",
            "Epoch 90/200\n",
            "973/973 [==============================] - 11s 12ms/step - loss: 0.0393 - rpd: 4.9537 - val_loss: 0.2801 - val_rpd: 2.7720\n",
            "Epoch 91/200\n",
            "973/973 [==============================] - 11s 12ms/step - loss: 0.0396 - rpd: 4.9295 - val_loss: 0.2585 - val_rpd: 2.8595\n",
            "Epoch 92/200\n",
            "973/973 [==============================] - 11s 12ms/step - loss: 0.0395 - rpd: 4.8980 - val_loss: 0.2649 - val_rpd: 2.7652\n",
            "Epoch 93/200\n",
            "973/973 [==============================] - 11s 12ms/step - loss: 0.0386 - rpd: 5.0262 - val_loss: 0.2740 - val_rpd: 2.7978\n",
            "Epoch 94/200\n",
            "973/973 [==============================] - 11s 12ms/step - loss: 0.0389 - rpd: 5.0376 - val_loss: 0.2796 - val_rpd: 2.7502\n",
            "Epoch 95/200\n",
            "973/973 [==============================] - 11s 12ms/step - loss: 0.0383 - rpd: 5.0348 - val_loss: 0.2717 - val_rpd: 2.7449\n",
            "Epoch 96/200\n",
            "973/973 [==============================] - 11s 12ms/step - loss: 0.0383 - rpd: 5.0867 - val_loss: 0.2793 - val_rpd: 2.8240\n",
            "Epoch 97/200\n",
            "973/973 [==============================] - 11s 12ms/step - loss: 0.0407 - rpd: 4.9632 - val_loss: 0.2903 - val_rpd: 2.7376\n",
            "Epoch 98/200\n",
            "973/973 [==============================] - 11s 12ms/step - loss: 0.0396 - rpd: 5.0252 - val_loss: 0.2818 - val_rpd: 2.8253\n",
            "Epoch 99/200\n",
            "973/973 [==============================] - 11s 12ms/step - loss: 0.0406 - rpd: 4.9752 - val_loss: 0.2714 - val_rpd: 2.8527\n",
            "Epoch 100/200\n",
            "973/973 [==============================] - 11s 12ms/step - loss: 0.0386 - rpd: 5.0136 - val_loss: 0.2566 - val_rpd: 2.7875\n",
            "Epoch 101/200\n",
            "973/973 [==============================] - 11s 12ms/step - loss: 0.0381 - rpd: 5.0558 - val_loss: 0.2620 - val_rpd: 2.8194\n",
            "Epoch 102/200\n",
            "973/973 [==============================] - 11s 12ms/step - loss: 0.0365 - rpd: 5.0739 - val_loss: 0.2576 - val_rpd: 2.8130\n",
            "Epoch 103/200\n",
            "973/973 [==============================] - 11s 12ms/step - loss: 0.0378 - rpd: 5.1118 - val_loss: 0.2662 - val_rpd: 2.8492\n",
            "Epoch 104/200\n",
            "973/973 [==============================] - 11s 12ms/step - loss: 0.0381 - rpd: 4.9935 - val_loss: 0.2526 - val_rpd: 2.8682\n",
            "Epoch 105/200\n",
            "973/973 [==============================] - 12s 12ms/step - loss: 0.0380 - rpd: 5.1229 - val_loss: 0.2463 - val_rpd: 2.9055\n",
            "Epoch 106/200\n",
            "973/973 [==============================] - 12s 12ms/step - loss: 0.0366 - rpd: 5.1258 - val_loss: 0.2645 - val_rpd: 2.7841\n",
            "Epoch 107/200\n",
            "973/973 [==============================] - 11s 12ms/step - loss: 0.0375 - rpd: 5.1083 - val_loss: 0.2649 - val_rpd: 2.8278\n",
            "Epoch 108/200\n",
            "973/973 [==============================] - 11s 11ms/step - loss: 0.0381 - rpd: 5.0751 - val_loss: 0.2671 - val_rpd: 2.8097\n",
            "Epoch 109/200\n",
            "973/973 [==============================] - 11s 11ms/step - loss: 0.0370 - rpd: 5.1196 - val_loss: 0.2595 - val_rpd: 2.8024\n",
            "Epoch 110/200\n",
            "973/973 [==============================] - 11s 12ms/step - loss: 0.0368 - rpd: 5.1337 - val_loss: 0.2657 - val_rpd: 2.8337\n",
            "Epoch 111/200\n",
            "973/973 [==============================] - 11s 12ms/step - loss: 0.0372 - rpd: 5.1564 - val_loss: 0.2615 - val_rpd: 2.8383\n",
            "Epoch 112/200\n",
            "973/973 [==============================] - 11s 12ms/step - loss: 0.0363 - rpd: 5.1733 - val_loss: 0.2700 - val_rpd: 2.8226\n",
            "Epoch 113/200\n",
            "973/973 [==============================] - 11s 12ms/step - loss: 0.0364 - rpd: 5.1455 - val_loss: 0.2782 - val_rpd: 2.7709\n",
            "Epoch 114/200\n",
            "973/973 [==============================] - 11s 12ms/step - loss: 0.0393 - rpd: 5.0818 - val_loss: 0.2488 - val_rpd: 2.8166\n",
            "Epoch 115/200\n",
            "973/973 [==============================] - 11s 12ms/step - loss: 0.0359 - rpd: 5.2103 - val_loss: 0.2828 - val_rpd: 2.7975\n",
            "Epoch 116/200\n",
            "973/973 [==============================] - 11s 12ms/step - loss: 0.0368 - rpd: 5.1796 - val_loss: 0.2535 - val_rpd: 2.7466\n",
            "Epoch 117/200\n",
            "973/973 [==============================] - 11s 12ms/step - loss: 0.0365 - rpd: 5.1467 - val_loss: 0.2638 - val_rpd: 2.8391\n",
            "Epoch 118/200\n",
            "973/973 [==============================] - 11s 11ms/step - loss: 0.0364 - rpd: 5.1707 - val_loss: 0.2754 - val_rpd: 2.7798\n",
            "Epoch 119/200\n",
            "973/973 [==============================] - 11s 12ms/step - loss: 0.0354 - rpd: 5.2628 - val_loss: 0.2672 - val_rpd: 2.7932\n",
            "Epoch 120/200\n",
            "973/973 [==============================] - 11s 12ms/step - loss: 0.0364 - rpd: 5.1978 - val_loss: 0.2712 - val_rpd: 2.8404\n",
            "Epoch 121/200\n",
            "973/973 [==============================] - 11s 12ms/step - loss: 0.0357 - rpd: 5.2636 - val_loss: 0.2860 - val_rpd: 2.7536\n",
            "Epoch 122/200\n",
            "973/973 [==============================] - 12s 12ms/step - loss: 0.0369 - rpd: 5.1823 - val_loss: 0.2660 - val_rpd: 2.7773\n",
            "Epoch 123/200\n",
            "973/973 [==============================] - 11s 12ms/step - loss: 0.0355 - rpd: 5.1801 - val_loss: 0.3036 - val_rpd: 2.7244\n",
            "Epoch 124/200\n",
            "973/973 [==============================] - 11s 11ms/step - loss: 0.0359 - rpd: 5.2230 - val_loss: 0.2674 - val_rpd: 2.7956\n",
            "Epoch 125/200\n",
            "973/973 [==============================] - 11s 12ms/step - loss: 0.0376 - rpd: 5.0846 - val_loss: 0.3013 - val_rpd: 2.7673\n",
            "Epoch 126/200\n",
            "973/973 [==============================] - 11s 12ms/step - loss: 0.0350 - rpd: 5.1967 - val_loss: 0.2826 - val_rpd: 2.6752\n",
            "Epoch 127/200\n",
            "973/973 [==============================] - 11s 12ms/step - loss: 0.0351 - rpd: 5.2936 - val_loss: 0.2661 - val_rpd: 2.7888\n",
            "Epoch 128/200\n",
            "973/973 [==============================] - 11s 12ms/step - loss: 0.0350 - rpd: 5.2209 - val_loss: 0.2775 - val_rpd: 2.8095\n",
            "Epoch 129/200\n",
            "973/973 [==============================] - 11s 11ms/step - loss: 0.0346 - rpd: 5.2763 - val_loss: 0.2859 - val_rpd: 2.8345\n",
            "Epoch 130/200\n",
            "973/973 [==============================] - 11s 12ms/step - loss: 0.0355 - rpd: 5.2767 - val_loss: 0.3071 - val_rpd: 2.7774\n",
            "Epoch 131/200\n",
            "973/973 [==============================] - 11s 11ms/step - loss: 0.0354 - rpd: 5.2960 - val_loss: 0.2707 - val_rpd: 2.7334\n",
            "Epoch 132/200\n",
            "973/973 [==============================] - 11s 12ms/step - loss: 0.0349 - rpd: 5.2943 - val_loss: 0.2631 - val_rpd: 2.7340\n",
            "Epoch 133/200\n",
            "973/973 [==============================] - 12s 12ms/step - loss: 0.0349 - rpd: 5.3019 - val_loss: 0.2776 - val_rpd: 2.7796\n",
            "Epoch 134/200\n",
            "973/973 [==============================] - 11s 12ms/step - loss: 0.0343 - rpd: 5.3087 - val_loss: 0.2698 - val_rpd: 2.8259\n",
            "Epoch 135/200\n",
            "973/973 [==============================] - 11s 12ms/step - loss: 0.0340 - rpd: 5.2862 - val_loss: 0.2531 - val_rpd: 2.7603\n",
            "Epoch 136/200\n",
            "973/973 [==============================] - 11s 12ms/step - loss: 0.0351 - rpd: 5.3452 - val_loss: 0.2498 - val_rpd: 2.9093\n",
            "Epoch 137/200\n",
            "973/973 [==============================] - 11s 11ms/step - loss: 0.0353 - rpd: 5.2805 - val_loss: 0.2674 - val_rpd: 2.7642\n",
            "Epoch 138/200\n",
            "973/973 [==============================] - 11s 11ms/step - loss: 0.0357 - rpd: 5.2289 - val_loss: 0.2666 - val_rpd: 2.7708\n",
            "Epoch 139/200\n",
            "973/973 [==============================] - 11s 12ms/step - loss: 0.0351 - rpd: 5.2994 - val_loss: 0.2645 - val_rpd: 2.8023\n",
            "Epoch 140/200\n",
            "973/973 [==============================] - 11s 12ms/step - loss: 0.0349 - rpd: 5.2942 - val_loss: 0.2595 - val_rpd: 2.7918\n",
            "Epoch 141/200\n",
            "973/973 [==============================] - 11s 12ms/step - loss: 0.0335 - rpd: 5.4210 - val_loss: 0.2691 - val_rpd: 2.8007\n",
            "Epoch 142/200\n",
            "973/973 [==============================] - 11s 12ms/step - loss: 0.0369 - rpd: 5.2398 - val_loss: 0.2838 - val_rpd: 2.7867\n",
            "Epoch 143/200\n",
            "973/973 [==============================] - 11s 11ms/step - loss: 0.0357 - rpd: 5.2707 - val_loss: 0.2666 - val_rpd: 2.8269\n",
            "Epoch 144/200\n",
            "973/973 [==============================] - 11s 12ms/step - loss: 0.0333 - rpd: 5.3158 - val_loss: 0.2739 - val_rpd: 2.8270\n",
            "Epoch 145/200\n",
            "973/973 [==============================] - 11s 12ms/step - loss: 0.0343 - rpd: 5.3645 - val_loss: 0.2589 - val_rpd: 2.8208\n",
            "Epoch 146/200\n",
            "973/973 [==============================] - 11s 12ms/step - loss: 0.0344 - rpd: 5.2883 - val_loss: 0.3020 - val_rpd: 2.7253\n",
            "Epoch 147/200\n",
            "973/973 [==============================] - 11s 12ms/step - loss: 0.0338 - rpd: 5.4401 - val_loss: 0.2594 - val_rpd: 2.7148\n",
            "Epoch 148/200\n",
            "973/973 [==============================] - 11s 11ms/step - loss: 0.0333 - rpd: 5.4388 - val_loss: 0.2745 - val_rpd: 2.7289\n",
            "Epoch 149/200\n",
            "973/973 [==============================] - 11s 12ms/step - loss: 0.0336 - rpd: 5.3683 - val_loss: 0.2662 - val_rpd: 2.8227\n",
            "Epoch 150/200\n",
            "973/973 [==============================] - 11s 11ms/step - loss: 0.0326 - rpd: 5.4209 - val_loss: 0.2872 - val_rpd: 2.7913\n",
            "Epoch 151/200\n",
            "973/973 [==============================] - 11s 12ms/step - loss: 0.0348 - rpd: 5.3554 - val_loss: 0.2651 - val_rpd: 2.8339\n",
            "Epoch 152/200\n",
            "973/973 [==============================] - 11s 11ms/step - loss: 0.0328 - rpd: 5.4059 - val_loss: 0.2699 - val_rpd: 2.7709\n",
            "Epoch 153/200\n",
            "973/973 [==============================] - 11s 12ms/step - loss: 0.0331 - rpd: 5.3781 - val_loss: 0.2653 - val_rpd: 2.7713\n",
            "Epoch 154/200\n",
            "973/973 [==============================] - 11s 12ms/step - loss: 0.0344 - rpd: 5.4050 - val_loss: 0.2546 - val_rpd: 2.8667\n",
            "Epoch 155/200\n",
            "973/973 [==============================] - 11s 12ms/step - loss: 0.0345 - rpd: 5.3854 - val_loss: 0.2882 - val_rpd: 2.8233\n",
            "Epoch 156/200\n",
            "973/973 [==============================] - 11s 11ms/step - loss: 0.0334 - rpd: 5.3184 - val_loss: 0.2717 - val_rpd: 2.7718\n",
            "Epoch 157/200\n",
            "973/973 [==============================] - 11s 11ms/step - loss: 0.0337 - rpd: 5.3877 - val_loss: 0.2683 - val_rpd: 2.8543\n",
            "Epoch 158/200\n",
            "973/973 [==============================] - 11s 11ms/step - loss: 0.0343 - rpd: 5.3402 - val_loss: 0.2609 - val_rpd: 2.8229\n",
            "Epoch 159/200\n",
            "973/973 [==============================] - 11s 12ms/step - loss: 0.0329 - rpd: 5.3714 - val_loss: 0.2725 - val_rpd: 2.7498\n",
            "Epoch 160/200\n",
            "973/973 [==============================] - 12s 12ms/step - loss: 0.0336 - rpd: 5.4435 - val_loss: 0.2712 - val_rpd: 2.7270\n",
            "Epoch 161/200\n",
            "973/973 [==============================] - 12s 12ms/step - loss: 0.0332 - rpd: 5.4324 - val_loss: 0.2686 - val_rpd: 2.8557\n",
            "Epoch 162/200\n",
            "973/973 [==============================] - 11s 11ms/step - loss: 0.0318 - rpd: 5.5481 - val_loss: 0.2522 - val_rpd: 2.8381\n",
            "Epoch 163/200\n",
            "973/973 [==============================] - 11s 12ms/step - loss: 0.0322 - rpd: 5.4834 - val_loss: 0.2577 - val_rpd: 2.8661\n",
            "Epoch 164/200\n",
            "973/973 [==============================] - 11s 12ms/step - loss: 0.0325 - rpd: 5.4058 - val_loss: 0.2427 - val_rpd: 2.9305\n",
            "Epoch 165/200\n",
            "973/973 [==============================] - 11s 12ms/step - loss: 0.0327 - rpd: 5.4462 - val_loss: 0.2898 - val_rpd: 2.6710\n",
            "Epoch 166/200\n",
            "973/973 [==============================] - 11s 11ms/step - loss: 0.0331 - rpd: 5.4500 - val_loss: 0.3013 - val_rpd: 2.7842\n",
            "Epoch 167/200\n",
            "973/973 [==============================] - 11s 12ms/step - loss: 0.0345 - rpd: 5.4073 - val_loss: 0.2600 - val_rpd: 2.8588\n",
            "Epoch 168/200\n",
            "973/973 [==============================] - 11s 12ms/step - loss: 0.0321 - rpd: 5.5377 - val_loss: 0.2476 - val_rpd: 2.8977\n",
            "Epoch 169/200\n",
            "973/973 [==============================] - 11s 12ms/step - loss: 0.0322 - rpd: 5.5234 - val_loss: 0.2836 - val_rpd: 2.7969\n",
            "Epoch 170/200\n",
            "973/973 [==============================] - 11s 12ms/step - loss: 0.0330 - rpd: 5.4299 - val_loss: 0.2776 - val_rpd: 2.7370\n",
            "Epoch 171/200\n",
            "973/973 [==============================] - 11s 12ms/step - loss: 0.0316 - rpd: 5.5811 - val_loss: 0.2810 - val_rpd: 2.8513\n",
            "Epoch 172/200\n",
            "973/973 [==============================] - 11s 11ms/step - loss: 0.0319 - rpd: 5.5091 - val_loss: 0.2660 - val_rpd: 2.8083\n",
            "Epoch 173/200\n",
            "973/973 [==============================] - 11s 12ms/step - loss: 0.0320 - rpd: 5.5001 - val_loss: 0.2735 - val_rpd: 2.7659\n",
            "Epoch 174/200\n",
            "973/973 [==============================] - 11s 12ms/step - loss: 0.0327 - rpd: 5.5179 - val_loss: 0.2695 - val_rpd: 2.7567\n",
            "Epoch 175/200\n",
            "973/973 [==============================] - 11s 12ms/step - loss: 0.0307 - rpd: 5.5757 - val_loss: 0.2654 - val_rpd: 2.8248\n",
            "Epoch 176/200\n",
            "973/973 [==============================] - 11s 12ms/step - loss: 0.0324 - rpd: 5.5670 - val_loss: 0.2928 - val_rpd: 2.7431\n",
            "Epoch 177/200\n",
            "973/973 [==============================] - 11s 12ms/step - loss: 0.0318 - rpd: 5.5409 - val_loss: 0.2765 - val_rpd: 2.7860\n",
            "Epoch 178/200\n",
            "973/973 [==============================] - 11s 12ms/step - loss: 0.0325 - rpd: 5.5192 - val_loss: 0.2794 - val_rpd: 2.8207\n",
            "Epoch 179/200\n",
            "973/973 [==============================] - 11s 12ms/step - loss: 0.0315 - rpd: 5.4692 - val_loss: 0.2644 - val_rpd: 2.8371\n",
            "Epoch 180/200\n",
            "973/973 [==============================] - 11s 12ms/step - loss: 0.0309 - rpd: 5.6001 - val_loss: 0.2605 - val_rpd: 2.8016\n",
            "Epoch 181/200\n",
            "973/973 [==============================] - 11s 11ms/step - loss: 0.0310 - rpd: 5.5319 - val_loss: 0.2638 - val_rpd: 2.7849\n",
            "Epoch 182/200\n",
            "973/973 [==============================] - 11s 12ms/step - loss: 0.0301 - rpd: 5.5697 - val_loss: 0.2940 - val_rpd: 2.7648\n",
            "Epoch 183/200\n",
            "973/973 [==============================] - 11s 11ms/step - loss: 0.0319 - rpd: 5.4893 - val_loss: 0.2702 - val_rpd: 2.7986\n",
            "Epoch 184/200\n",
            "973/973 [==============================] - 11s 12ms/step - loss: 0.0300 - rpd: 5.6563 - val_loss: 0.2817 - val_rpd: 2.7389\n",
            "Epoch 185/200\n",
            "973/973 [==============================] - 11s 11ms/step - loss: 0.0319 - rpd: 5.4961 - val_loss: 0.2565 - val_rpd: 2.8360\n",
            "Epoch 186/200\n",
            "973/973 [==============================] - 11s 11ms/step - loss: 0.0321 - rpd: 5.5885 - val_loss: 0.2667 - val_rpd: 2.8098\n",
            "Epoch 187/200\n",
            "973/973 [==============================] - 11s 12ms/step - loss: 0.0311 - rpd: 5.6552 - val_loss: 0.2620 - val_rpd: 2.7625\n",
            "Epoch 188/200\n",
            "973/973 [==============================] - 12s 12ms/step - loss: 0.0308 - rpd: 5.5977 - val_loss: 0.2620 - val_rpd: 2.8901\n",
            "Epoch 189/200\n",
            "973/973 [==============================] - 11s 12ms/step - loss: 0.0309 - rpd: 5.6519 - val_loss: 0.2770 - val_rpd: 2.8326\n",
            "Epoch 190/200\n",
            "973/973 [==============================] - 11s 11ms/step - loss: 0.0298 - rpd: 5.6746 - val_loss: 0.2705 - val_rpd: 2.8345\n",
            "Epoch 191/200\n",
            "973/973 [==============================] - 11s 11ms/step - loss: 0.0307 - rpd: 5.5755 - val_loss: 0.2624 - val_rpd: 2.8312\n",
            "Epoch 192/200\n",
            "973/973 [==============================] - 11s 12ms/step - loss: 0.0301 - rpd: 5.6505 - val_loss: 0.2783 - val_rpd: 2.7968\n",
            "Epoch 193/200\n",
            "973/973 [==============================] - 11s 11ms/step - loss: 0.0305 - rpd: 5.6564 - val_loss: 0.2721 - val_rpd: 2.7747\n",
            "Epoch 194/200\n",
            "973/973 [==============================] - 11s 12ms/step - loss: 0.0303 - rpd: 5.5737 - val_loss: 0.2909 - val_rpd: 2.7614\n",
            "Epoch 195/200\n",
            "973/973 [==============================] - 11s 11ms/step - loss: 0.0292 - rpd: 5.7786 - val_loss: 0.2692 - val_rpd: 2.8569\n",
            "Epoch 196/200\n",
            "973/973 [==============================] - 11s 12ms/step - loss: 0.0304 - rpd: 5.6061 - val_loss: 0.2696 - val_rpd: 2.8313\n",
            "Epoch 197/200\n",
            "973/973 [==============================] - 11s 12ms/step - loss: 0.0296 - rpd: 5.6494 - val_loss: 0.2419 - val_rpd: 2.8828\n",
            "Epoch 198/200\n",
            "973/973 [==============================] - 11s 12ms/step - loss: 0.0299 - rpd: 5.6336 - val_loss: 0.2624 - val_rpd: 2.8436\n",
            "Epoch 199/200\n",
            "973/973 [==============================] - 11s 12ms/step - loss: 0.0288 - rpd: 5.7484 - val_loss: 0.2854 - val_rpd: 2.7918\n",
            "Epoch 200/200\n",
            "973/973 [==============================] - 11s 12ms/step - loss: 0.0294 - rpd: 5.6870 - val_loss: 0.2849 - val_rpd: 2.6972\n"
          ],
          "name": "stdout"
        }
      ]
    },
    {
      "cell_type": "markdown",
      "metadata": {
        "id": "IvNTW4Hdi_tv",
        "colab_type": "text"
      },
      "source": [
        "### 7. Assessing learning"
      ]
    },
    {
      "cell_type": "code",
      "metadata": {
        "id": "JSZ1HgdExNH6",
        "colab_type": "code",
        "colab": {}
      },
      "source": [
        "# Concat all runs history\n",
        "def concat_history(*args):\n",
        "  all_history = args[0].history.copy()\n",
        "  for hist in args[1:]:\n",
        "    for k in all_history.keys():\n",
        "      all_history[k] += hist.history[k]\n",
        "  return all_history\n",
        "\n",
        "all_history = concat_history(history, history2)"
      ],
      "execution_count": 17,
      "outputs": []
    },
    {
      "cell_type": "code",
      "metadata": {
        "id": "gHwxUDHmiWDa",
        "colab_type": "code",
        "colab": {
          "base_uri": "https://localhost:8080/",
          "height": 475
        },
        "outputId": "5b593f9f-b9ee-41fc-f410-29ae8aa56abd"
      },
      "source": [
        "# Plot training & validation accuracy values\n",
        "fig, ax = plt.subplots(figsize=(12,7))\n",
        "_ = ax.plot(all_history['val_rpd'])\n",
        "_ = ax.plot(all_history['rpd'])\n",
        "plt.ylim(0, 8)\n",
        "plt.title('Model RPD over Epoch')\n",
        "plt.ylabel('RPD')\n",
        "plt.xlabel('Epoch')\n",
        "plt.legend(['Validation', 'Train'], loc='upper left')"
      ],
      "execution_count": 22,
      "outputs": [
        {
          "output_type": "execute_result",
          "data": {
            "text/plain": [
              "<matplotlib.legend.Legend at 0x7fd3a8cd3eb8>"
            ]
          },
          "metadata": {
            "tags": []
          },
          "execution_count": 22
        },
        {
          "output_type": "display_data",
          "data": {
            "image/png": "[encoded data removed]",
            "text/plain": [
              "<Figure size 864x504 with 1 Axes>"
            ]
          },
          "metadata": {
            "tags": [],
            "needs_background": "light"
          }
        }
      ]
    },
    {
      "cell_type": "code",
      "metadata": {
        "id": "C3EiBzwDGIR1",
        "colab_type": "code",
        "colab": {
          "base_uri": "https://localhost:8080/",
          "height": 52
        },
        "outputId": "37481ab9-4e8e-49b1-f273-ce7a82a09550"
      },
      "source": [
        "_, rpd = model.evaluate(X_test, y_test)\n",
        "print('RPD on test set:', rpd)"
      ],
      "execution_count": 33,
      "outputs": [
        {
          "output_type": "stream",
          "text": [
            "304/304 [==============================] - 1s 3ms/step - loss: 0.2383 - rpd: 2.4606\n",
            "RPD on test set: 2.4606411457061768\n"
          ],
          "name": "stdout"
        }
      ]
    },
    {
      "cell_type": "code",
      "metadata": {
        "id": "aK_R1HYBFbqF",
        "colab_type": "code",
        "colab": {
          "base_uri": "https://localhost:8080/",
          "height": 34
        },
        "outputId": "a79e4754-5f7e-456a-ba64-e3b7074149d0"
      },
      "source": [
        "print('R2 on training set: ', r2_score(model.predict(X_test), y_test))"
      ],
      "execution_count": 35,
      "outputs": [
        {
          "output_type": "stream",
          "text": [
            "R2 on training set:  0.7859046731242388\n"
          ],
          "name": "stdout"
        }
      ]
    }
  ]
}