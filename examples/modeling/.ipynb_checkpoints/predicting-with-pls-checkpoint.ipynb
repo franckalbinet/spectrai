{
 "cells": [
  {
   "cell_type": "markdown",
   "metadata": {
    "colab_type": "text",
    "id": "X4NoCRShyjXI"
   },
   "source": [
    "PREDICTING WITH PARTIAL LEAST SQUARES\n",
    "\n",
    "---\n",
    "\n",
    "\n"
   ]
  },
  {
   "cell_type": "markdown",
   "metadata": {
    "colab_type": "text",
    "id": "uhzAXOkEyGfr"
   },
   "source": [
    "### 1. Google Colab runtime setup [Optional]"
   ]
  },
  {
   "cell_type": "code",
   "execution_count": null,
   "metadata": {
    "colab": {},
    "colab_type": "code",
    "id": "Sx0mHTxnw-vY"
   },
   "outputs": [],
   "source": [
    "# Clone and install spectrai package \n",
    "!git clone https://github.com/franckalbinet/spectrai.git \n",
    "!pip install /content/spectrai "
   ]
  },
  {
   "cell_type": "code",
   "execution_count": null,
   "metadata": {
    "colab": {},
    "colab_type": "code",
    "id": "1fvPwD8z2qTe"
   },
   "outputs": [],
   "source": [
    "# Prepare /root folder content\n",
    "!cp -r /content/drive/My\\ Drive/Colab\\ Notebooks/data/data_spectrai /root"
   ]
  },
  {
   "cell_type": "code",
   "execution_count": null,
   "metadata": {
    "colab": {},
    "colab_type": "code",
    "id": "g3fC41eDpIw1"
   },
   "outputs": [],
   "source": [
    "# Create configuration file\n",
    "!mkdir /root/.spectrai_config & cp /content/spectrai/config.toml /root/.spectrai_config"
   ]
  },
  {
   "cell_type": "markdown",
   "metadata": {
    "colab_type": "text",
    "id": "Zzmdr5mK523P"
   },
   "source": [
    "### 2. Import packages"
   ]
  },
  {
   "cell_type": "code",
   "execution_count": 73,
   "metadata": {
    "colab": {},
    "colab_type": "code",
    "id": "ewCTaC6xtYzX"
   },
   "outputs": [
    {
     "name": "stdout",
     "output_type": "stream",
     "text": [
      "The autoreload extension is already loaded. To reload it, use:\n",
      "  %reload_ext autoreload\n"
     ]
    }
   ],
   "source": [
    "from spectrai.datasets.kssl import (get_tax_orders_lookup_tbl, get_analytes, load_data)\n",
    "from spectrai.vis.spectra import plot_spectra\n",
    "from sklearn.metrics import mean_squared_error, r2_score\n",
    "\n",
    "from sklearn.model_selection import train_test_split\n",
    "from sklearn.cross_decomposition import PLSRegression\n",
    "from sklearn.model_selection import cross_val_predict\n",
    "from sklearn.base import BaseEstimator, TransformerMixin\n",
    "from sklearn.pipeline import Pipeline\n",
    "from sklearn.model_selection import GridSearchCV\n",
    "from sklearn.model_selection import train_test_split\n",
    "\n",
    "from tqdm import tqdm\n",
    "\n",
    "from scipy.signal import savgol_filter\n",
    "\n",
    "import matplotlib.pyplot as plt\n",
    "\n",
    "%load_ext autoreload\n",
    "%autoreload 2"
   ]
  },
  {
   "cell_type": "markdown",
   "metadata": {
    "colab_type": "text",
    "id": "gALHwlC-6CNC"
   },
   "source": [
    "### 3. Load KSSL dataset"
   ]
  },
  {
   "cell_type": "code",
   "execution_count": 14,
   "metadata": {
    "colab": {},
    "colab_type": "code",
    "id": "Y7G-mb_-woEF"
   },
   "outputs": [],
   "source": [
    "# Loading Potassium, NH4OAc\n",
    "X, X_names, y, y_names, instances_id = load_data([725])"
   ]
  },
  {
   "cell_type": "code",
   "execution_count": 15,
   "metadata": {
    "colab": {
     "base_uri": "https://localhost:8080/",
     "height": 107
    },
    "colab_type": "code",
    "id": "bGD3xp-Vwd0N",
    "outputId": "86f155a0-4705-4af3-9d7e-d2b003290be7"
   },
   "outputs": [
    {
     "name": "stdout",
     "output_type": "stream",
     "text": [
      "X shape:  (50714, 1764)\n",
      "X approx. memory size: 357 MB\n",
      "y approx. memory size: 1 MB\n",
      "Wavenumbers:  [3999 3997 3995 ...  603  601  599]\n",
      "Target variable:  ['lay_depth_to_top' 'order_id' 'calc_value']\n"
     ]
    }
   ],
   "source": [
    "print('X shape: ', X.shape)\n",
    "print('X approx. memory size: {} MB'.format(X.nbytes // 10**6))\n",
    "print('y approx. memory size: {} MB'.format(y.nbytes // 10**6))\n",
    "print('Wavenumbers: ', X_names)\n",
    "print('Target variable: ', y_names)"
   ]
  },
  {
   "cell_type": "markdown",
   "metadata": {
    "colab_type": "text",
    "id": "xiZkYs57fr6V"
   },
   "source": [
    "### 4. Data preparation and preprocessing"
   ]
  },
  {
   "cell_type": "code",
   "execution_count": 16,
   "metadata": {},
   "outputs": [
    {
     "data": {
      "text/plain": [
       "{'alfisols': 0,\n",
       " 'mollisols': 1,\n",
       " 'inceptisols': 2,\n",
       " 'entisols': 3,\n",
       " 'spodosols': 4,\n",
       " nan: 5,\n",
       " 'ultisols': 6,\n",
       " 'andisols': 7,\n",
       " 'histosols': 8,\n",
       " 'oxisols': 9,\n",
       " 'vertisols': 10,\n",
       " 'aridisols': 11,\n",
       " 'gelisols': 12}"
      ]
     },
     "execution_count": 16,
     "metadata": {},
     "output_type": "execute_result"
    }
   ],
   "source": [
    "# Display taxonomic orders\n",
    "get_tax_orders_lookup_tbl()"
   ]
  },
  {
   "cell_type": "code",
   "execution_count": 55,
   "metadata": {
    "colab": {},
    "colab_type": "code",
    "id": "4RzXRn87bMiK"
   },
   "outputs": [],
   "source": [
    "# Keeping data with analyte concentration > 0 only and for 'inceptisols' taxonomic order only.\n",
    "TAX_ORDER_ID = 2\n",
    "\n",
    "idx_y_valid = y[:, -1] > 0\n",
    "idx_order = y[:,1] == TAX_ORDER_ID\n",
    "idx = idx_y_valid & idx_order\n",
    "\n",
    "X_subset = X[idx,:]\n",
    "y_subset = y[idx,:]"
   ]
  },
  {
   "cell_type": "markdown",
   "metadata": {},
   "source": [
    "### 5. Fit  and fine-tune PLS model "
   ]
  },
  {
   "cell_type": "code",
   "execution_count": 56,
   "metadata": {
    "colab": {
     "base_uri": "https://localhost:8080/",
     "height": 89
    },
    "colab_type": "code",
    "id": "zE-T-mxAdUwp",
    "outputId": "597a2447-7f7e-437e-9128-cb6368848395"
   },
   "outputs": [
    {
     "name": "stdout",
     "output_type": "stream",
     "text": [
      "X train shape:  (3268, 1764)\n",
      "X test shape:  (818, 1764)\n",
      "y train shape:  (3268,)\n",
      "y test shape:  (818,)\n"
     ]
    }
   ],
   "source": [
    "# Creating train, valid, test sets\n",
    "X_train, X_test, y_train, y_test = train_test_split(X_subset, y_subset[:, -1], test_size=0.20, random_state=42)\n",
    "\n",
    "print('X train shape: ', X_train.shape)\n",
    "print('X test shape: ', X_test.shape)\n",
    "print('y train shape: ', y_train.shape)\n",
    "print('y test shape: ', y_test.shape)"
   ]
  },
  {
   "cell_type": "code",
   "execution_count": 106,
   "metadata": {},
   "outputs": [],
   "source": [
    "# Custom transformer (To be able to \"search grid\")\n",
    "class TakeDerivative(BaseEstimator, TransformerMixin):\n",
    "    def __init__(self, window_length=11, polyorder=1, deriv=1):\n",
    "        self.window_length = window_length\n",
    "        self.polyorder = polyorder\n",
    "        self.deriv = deriv\n",
    "        \n",
    "    def fit(self, X, y=None):\n",
    "        return self\n",
    "    \n",
    "    def transform(self, X, y=None):\n",
    "        return savgol_filter(X, self.window_length, self.polyorder, self.deriv)"
   ]
  },
  {
   "cell_type": "code",
   "execution_count": 111,
   "metadata": {},
   "outputs": [],
   "source": [
    "# Set grid of hyper-parameters values to explore\n",
    "param_grid = {'deriv__window_length': range(3, 13, 2), # Should be odd\n",
    "              'deriv__polyorder': range(1,4),\n",
    "              'model__n_components': range(2,20)}"
   ]
  },
  {
   "cell_type": "code",
   "execution_count": 112,
   "metadata": {},
   "outputs": [
    {
     "data": {
      "text/plain": [
       "GridSearchCV(cv=5, error_score='raise-deprecating',\n",
       "             estimator=Pipeline(memory=None,\n",
       "                                steps=[('deriv',\n",
       "                                        TakeDerivative(deriv=1, polyorder=1,\n",
       "                                                       window_length=11)),\n",
       "                                       ('model',\n",
       "                                        PLSRegression(copy=True, max_iter=500,\n",
       "                                                      n_components=2,\n",
       "                                                      scale=True, tol=1e-06))],\n",
       "                                verbose=False),\n",
       "             iid='warn', n_jobs=None,\n",
       "             param_grid={'deriv__window_length': range(3, 13, 2),\n",
       "                         'model__n_components': range(2, 20)},\n",
       "             pre_dispatch='2*n_jobs', refit=True, return_train_score=True,\n",
       "             scoring='r2', verbose=0)"
      ]
     },
     "execution_count": 112,
     "metadata": {},
     "output_type": "execute_result"
    }
   ],
   "source": [
    "# Setup and fit the pipeline\n",
    "pipe = Pipeline([('deriv', TakeDerivative()), ('model', PLSRegression())])\n",
    "grid_search = GridSearchCV(pipe, param_grid, cv=5, scoring='r2', return_train_score=True)\n",
    "grid_search.fit(X_train, y_train)"
   ]
  },
  {
   "cell_type": "code",
   "execution_count": 113,
   "metadata": {
    "colab": {},
    "colab_type": "code",
    "id": "Q4Na4QnulTdA"
   },
   "outputs": [
    {
     "data": {
      "text/plain": [
       "{'deriv__window_length': 3, 'model__n_components': 16}"
      ]
     },
     "execution_count": 113,
     "metadata": {},
     "output_type": "execute_result"
    }
   ],
   "source": [
    "# What is the \"best\" combination of hyper-parameters\n",
    "grid_search.best_params_"
   ]
  },
  {
   "cell_type": "code",
   "execution_count": 114,
   "metadata": {},
   "outputs": [
    {
     "name": "stdout",
     "output_type": "stream",
     "text": [
      "0.3925757770707812 {'deriv__window_length': 3, 'model__n_components': 2}\n",
      "0.4490216842147656 {'deriv__window_length': 3, 'model__n_components': 3}\n",
      "0.471199566957936 {'deriv__window_length': 3, 'model__n_components': 4}\n",
      "0.4973748396219633 {'deriv__window_length': 3, 'model__n_components': 5}\n",
      "0.5059318994100283 {'deriv__window_length': 3, 'model__n_components': 6}\n",
      "0.5171657405598586 {'deriv__window_length': 3, 'model__n_components': 7}\n",
      "0.5237323162440648 {'deriv__window_length': 3, 'model__n_components': 8}\n",
      "0.5308570025655804 {'deriv__window_length': 3, 'model__n_components': 9}\n",
      "0.5359533991666027 {'deriv__window_length': 3, 'model__n_components': 10}\n",
      "0.538027686140244 {'deriv__window_length': 3, 'model__n_components': 11}\n",
      "0.5414549834681197 {'deriv__window_length': 3, 'model__n_components': 12}\n",
      "0.5383849522923849 {'deriv__window_length': 3, 'model__n_components': 13}\n",
      "0.5389258568947559 {'deriv__window_length': 3, 'model__n_components': 14}\n",
      "0.5403097576704297 {'deriv__window_length': 3, 'model__n_components': 15}\n",
      "0.5423109539238955 {'deriv__window_length': 3, 'model__n_components': 16}\n",
      "0.5384632938189384 {'deriv__window_length': 3, 'model__n_components': 17}\n",
      "0.5367765368221945 {'deriv__window_length': 3, 'model__n_components': 18}\n",
      "0.5343893343330992 {'deriv__window_length': 3, 'model__n_components': 19}\n",
      "0.3948377040747802 {'deriv__window_length': 5, 'model__n_components': 2}\n",
      "0.45089216138583366 {'deriv__window_length': 5, 'model__n_components': 3}\n",
      "0.4727416981833631 {'deriv__window_length': 5, 'model__n_components': 4}\n",
      "0.49912540051361753 {'deriv__window_length': 5, 'model__n_components': 5}\n",
      "0.5078588282344544 {'deriv__window_length': 5, 'model__n_components': 6}\n",
      "0.5182155456769354 {'deriv__window_length': 5, 'model__n_components': 7}\n",
      "0.523315275663729 {'deriv__window_length': 5, 'model__n_components': 8}\n",
      "0.5306067191135393 {'deriv__window_length': 5, 'model__n_components': 9}\n",
      "0.5358913327157618 {'deriv__window_length': 5, 'model__n_components': 10}\n",
      "0.5375134966014394 {'deriv__window_length': 5, 'model__n_components': 11}\n",
      "0.5413184516220009 {'deriv__window_length': 5, 'model__n_components': 12}\n",
      "0.5381258569031224 {'deriv__window_length': 5, 'model__n_components': 13}\n",
      "0.5379193399864091 {'deriv__window_length': 5, 'model__n_components': 14}\n",
      "0.5405046777614245 {'deriv__window_length': 5, 'model__n_components': 15}\n",
      "0.5419057321495806 {'deriv__window_length': 5, 'model__n_components': 16}\n",
      "0.5375840934172166 {'deriv__window_length': 5, 'model__n_components': 17}\n",
      "0.5355789270255402 {'deriv__window_length': 5, 'model__n_components': 18}\n",
      "0.5371658206981882 {'deriv__window_length': 5, 'model__n_components': 19}\n",
      "0.39826783007554034 {'deriv__window_length': 7, 'model__n_components': 2}\n",
      "0.4530542025667315 {'deriv__window_length': 7, 'model__n_components': 3}\n",
      "0.474834867732878 {'deriv__window_length': 7, 'model__n_components': 4}\n",
      "0.5005876164271739 {'deriv__window_length': 7, 'model__n_components': 5}\n",
      "0.5117766327845865 {'deriv__window_length': 7, 'model__n_components': 6}\n",
      "0.5202604806101421 {'deriv__window_length': 7, 'model__n_components': 7}\n",
      "0.523187249593483 {'deriv__window_length': 7, 'model__n_components': 8}\n",
      "0.5303076282270055 {'deriv__window_length': 7, 'model__n_components': 9}\n",
      "0.5357668266159606 {'deriv__window_length': 7, 'model__n_components': 10}\n",
      "0.5376607537712925 {'deriv__window_length': 7, 'model__n_components': 11}\n",
      "0.5414051086443722 {'deriv__window_length': 7, 'model__n_components': 12}\n",
      "0.5363886864839564 {'deriv__window_length': 7, 'model__n_components': 13}\n",
      "0.5377275761938269 {'deriv__window_length': 7, 'model__n_components': 14}\n",
      "0.5417352236302416 {'deriv__window_length': 7, 'model__n_components': 15}\n",
      "0.5413394867792197 {'deriv__window_length': 7, 'model__n_components': 16}\n",
      "0.540891992327959 {'deriv__window_length': 7, 'model__n_components': 17}\n",
      "0.5368866927740535 {'deriv__window_length': 7, 'model__n_components': 18}\n",
      "0.5378706357525099 {'deriv__window_length': 7, 'model__n_components': 19}\n",
      "0.40121902891922046 {'deriv__window_length': 9, 'model__n_components': 2}\n",
      "0.45566441218392656 {'deriv__window_length': 9, 'model__n_components': 3}\n",
      "0.4769650577407657 {'deriv__window_length': 9, 'model__n_components': 4}\n",
      "0.5011814743059647 {'deriv__window_length': 9, 'model__n_components': 5}\n",
      "0.5128427311351428 {'deriv__window_length': 9, 'model__n_components': 6}\n",
      "0.5198197867967785 {'deriv__window_length': 9, 'model__n_components': 7}\n",
      "0.5228882773015131 {'deriv__window_length': 9, 'model__n_components': 8}\n",
      "0.529944249730381 {'deriv__window_length': 9, 'model__n_components': 9}\n",
      "0.5356204807211469 {'deriv__window_length': 9, 'model__n_components': 10}\n",
      "0.5372236083730539 {'deriv__window_length': 9, 'model__n_components': 11}\n",
      "0.540194531786081 {'deriv__window_length': 9, 'model__n_components': 12}\n",
      "0.5367352461766336 {'deriv__window_length': 9, 'model__n_components': 13}\n",
      "0.5366944815480801 {'deriv__window_length': 9, 'model__n_components': 14}\n",
      "0.5404959328001295 {'deriv__window_length': 9, 'model__n_components': 15}\n",
      "0.5408597951906701 {'deriv__window_length': 9, 'model__n_components': 16}\n",
      "0.5404525661329326 {'deriv__window_length': 9, 'model__n_components': 17}\n",
      "0.5372456923452618 {'deriv__window_length': 9, 'model__n_components': 18}\n",
      "0.5377455138062264 {'deriv__window_length': 9, 'model__n_components': 19}\n",
      "0.40406917969555356 {'deriv__window_length': 11, 'model__n_components': 2}\n",
      "0.45782405998557857 {'deriv__window_length': 11, 'model__n_components': 3}\n",
      "0.4789738969773771 {'deriv__window_length': 11, 'model__n_components': 4}\n",
      "0.5009485127264564 {'deriv__window_length': 11, 'model__n_components': 5}\n",
      "0.5101078587566159 {'deriv__window_length': 11, 'model__n_components': 6}\n",
      "0.5203704684257463 {'deriv__window_length': 11, 'model__n_components': 7}\n",
      "0.5223617509384173 {'deriv__window_length': 11, 'model__n_components': 8}\n",
      "0.5298197266967716 {'deriv__window_length': 11, 'model__n_components': 9}\n",
      "0.5358347946099539 {'deriv__window_length': 11, 'model__n_components': 10}\n",
      "0.5370849596826578 {'deriv__window_length': 11, 'model__n_components': 11}\n",
      "0.5392007821023127 {'deriv__window_length': 11, 'model__n_components': 12}\n",
      "0.5386841435197143 {'deriv__window_length': 11, 'model__n_components': 13}\n",
      "0.5375800614289147 {'deriv__window_length': 11, 'model__n_components': 14}\n",
      "0.5395449057233412 {'deriv__window_length': 11, 'model__n_components': 15}\n",
      "0.540669322284581 {'deriv__window_length': 11, 'model__n_components': 16}\n",
      "0.536266949006434 {'deriv__window_length': 11, 'model__n_components': 17}\n",
      "0.5378147470431405 {'deriv__window_length': 11, 'model__n_components': 18}\n",
      "0.5368331538604972 {'deriv__window_length': 11, 'model__n_components': 19}\n"
     ]
    }
   ],
   "source": [
    "# Listing all grid points and associated score\n",
    "cvres = grid_search.cv_results_\n",
    "for mean_score, params in zip(cvres['mean_test_score'], cvres['params']):\n",
    "    print(mean_score, params)"
   ]
  },
  {
   "cell_type": "code",
   "execution_count": 120,
   "metadata": {},
   "outputs": [
    {
     "name": "stdout",
     "output_type": "stream",
     "text": [
      "R2 on test set with best estimator:  0.012197863808802167\n"
     ]
    }
   ],
   "source": [
    "print('R2 on test set with best estimator: ', r2_score(grid_search.best_estimator_.predict(X_test), y_test))"
   ]
  }
 ],
 "metadata": {
  "accelerator": "GPU",
  "colab": {
   "collapsed_sections": [],
   "name": "predicting-with-pls.ipynb",
   "provenance": [],
   "toc_visible": true
  },
  "kernelspec": {
   "display_name": "Python 3",
   "language": "python",
   "name": "python3"
  },
  "language_info": {
   "codemirror_mode": {
    "name": "ipython",
    "version": 3
   },
   "file_extension": ".py",
   "mimetype": "text/x-python",
   "name": "python",
   "nbconvert_exporter": "python",
   "pygments_lexer": "ipython3",
   "version": "3.7.6"
  }
 },
 "nbformat": 4,
 "nbformat_minor": 1
}
