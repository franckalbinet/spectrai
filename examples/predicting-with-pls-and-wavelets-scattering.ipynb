{
 "cells": [
  {
   "cell_type": "markdown",
   "metadata": {
    "colab_type": "text",
    "id": "X4NoCRShyjXI"
   },
   "source": [
    "PREDICTING WITH PARTIAL LEAST SQUARES AND WAVELETS SCATTERING\n",
    "\n",
    "---\n",
    "\n"
   ]
  },
  {
   "cell_type": "markdown",
   "metadata": {
    "colab_type": "text",
    "id": "uhzAXOkEyGfr"
   },
   "source": [
    "### 1. Google Colab runtime setup [Optional]"
   ]
  },
  {
   "cell_type": "code",
   "execution_count": 38,
   "metadata": {
    "colab": {
     "base_uri": "https://localhost:8080/",
     "height": 34
    },
    "colab_type": "code",
    "executionInfo": {
     "elapsed": 860,
     "status": "ok",
     "timestamp": 1593506383668,
     "user": {
      "displayName": "franck Albinet",
      "photoUrl": "",
      "userId": "04749665539404912168"
     },
     "user_tz": -120
    },
    "id": "ngt1SRk96NeY",
    "outputId": "1635b4ad-fb4f-4f85-a12e-f7d663ad27b9"
   },
   "outputs": [
    {
     "name": "stdout",
     "output_type": "stream",
     "text": [
      "Drive already mounted at /content/drive; to attempt to forcibly remount, call drive.mount(\"/content/drive\", force_remount=True).\n"
     ]
    }
   ],
   "source": [
    "from google.colab import drive\n",
    "drive.mount('/content/drive')"
   ]
  },
  {
   "cell_type": "code",
   "execution_count": null,
   "metadata": {
    "colab": {
     "base_uri": "https://localhost:8080/",
     "height": 1000
    },
    "colab_type": "code",
    "executionInfo": {
     "elapsed": 10688,
     "status": "ok",
     "timestamp": 1593506414594,
     "user": {
      "displayName": "franck Albinet",
      "photoUrl": "",
      "userId": "04749665539404912168"
     },
     "user_tz": -120
    },
    "id": "Sx0mHTxnw-vY",
    "outputId": "1da43874-25c3-42d9-de94-16063cc0dd9a"
   },
   "outputs": [],
   "source": [
    "# Clone and install spectrai package \n",
    "!git clone https://github.com/franckalbinet/spectrai.git \n",
    "!pip install /content/spectrai "
   ]
  },
  {
   "cell_type": "code",
   "execution_count": null,
   "metadata": {
    "colab": {},
    "colab_type": "code",
    "id": "1fvPwD8z2qTe"
   },
   "outputs": [],
   "source": [
    "# Prepare /root folder content\n",
    "!cp -r /content/drive/My\\ Drive/Colab\\ Notebooks/data/data_spectrai /root"
   ]
  },
  {
   "cell_type": "code",
   "execution_count": null,
   "metadata": {
    "colab": {},
    "colab_type": "code",
    "id": "g3fC41eDpIw1"
   },
   "outputs": [],
   "source": [
    "# Create configuration file\n",
    "!mkdir /root/.spectrai_config & cp /content/spectrai/config.toml /root/.spectrai_config"
   ]
  },
  {
   "cell_type": "markdown",
   "metadata": {
    "colab_type": "text",
    "id": "Zzmdr5mK523P"
   },
   "source": [
    "### 2. Import packages"
   ]
  },
  {
   "cell_type": "code",
   "execution_count": 400,
   "metadata": {
    "colab": {
     "base_uri": "https://localhost:8080/",
     "height": 52
    },
    "colab_type": "code",
    "executionInfo": {
     "elapsed": 839,
     "status": "ok",
     "timestamp": 1593507872602,
     "user": {
      "displayName": "franck Albinet",
      "photoUrl": "",
      "userId": "04749665539404912168"
     },
     "user_tz": -120
    },
    "id": "ewCTaC6xtYzX",
    "outputId": "9308a4d9-8759-446d-d77a-c5b292d9ffdd"
   },
   "outputs": [
    {
     "name": "stdout",
     "output_type": "stream",
     "text": [
      "The autoreload extension is already loaded. To reload it, use:\n",
      "  %reload_ext autoreload\n"
     ]
    }
   ],
   "source": [
    "from spectrai.datasets.kssl import (get_tax_orders_lookup_tbl, get_analytes, load_data)\n",
    "from spectrai.vis.spectra import plot_spectra\n",
    "from spectrai.features.preprocessing import TakeDerivative\n",
    "from sklearn.metrics import mean_squared_error, r2_score\n",
    "\n",
    "from sklearn.model_selection import train_test_split\n",
    "from sklearn.cross_decomposition import PLSRegression\n",
    "from sklearn.model_selection import cross_val_predict\n",
    "\n",
    "from sklearn.preprocessing import MinMaxScaler\n",
    "\n",
    "from sklearn.pipeline import Pipeline\n",
    "from sklearn.model_selection import GridSearchCV\n",
    "from sklearn.model_selection import train_test_split\n",
    "from sklearn.feature_selection import SelectKBest\n",
    "from sklearn.feature_selection import f_regression\n",
    "from sklearn.linear_model import LinearRegression\n",
    "from sklearn.ensemble import RandomForestRegressor\n",
    "from sklearn.decomposition import PCA\n",
    "\n",
    "#from kymatio.sklearn import Scattering1D\n",
    "from kymatio.numpy import Scattering1D\n",
    "\n",
    "import numpy as np\n",
    "\n",
    "import matplotlib.pyplot as plt\n",
    "\n",
    "%load_ext autoreload\n",
    "%autoreload 2"
   ]
  },
  {
   "cell_type": "code",
   "execution_count": 132,
   "metadata": {},
   "outputs": [],
   "source": [
    "?Scattering1D"
   ]
  },
  {
   "cell_type": "markdown",
   "metadata": {
    "colab_type": "text",
    "id": "gALHwlC-6CNC"
   },
   "source": [
    "### 3. Load KSSL dataset"
   ]
  },
  {
   "cell_type": "code",
   "execution_count": 6,
   "metadata": {
    "colab": {},
    "colab_type": "code",
    "executionInfo": {
     "elapsed": 30702,
     "status": "ok",
     "timestamp": 1593506516821,
     "user": {
      "displayName": "franck Albinet",
      "photoUrl": "",
      "userId": "04749665539404912168"
     },
     "user_tz": -120
    },
    "id": "Y7G-mb_-woEF"
   },
   "outputs": [],
   "source": [
    "# Loading Potassium, NH4OAc\n",
    "X, X_names, y, y_names, instances_id = load_data([725])"
   ]
  },
  {
   "cell_type": "code",
   "execution_count": 7,
   "metadata": {
    "colab": {
     "base_uri": "https://localhost:8080/",
     "height": 105
    },
    "colab_type": "code",
    "executionInfo": {
     "elapsed": 1276,
     "status": "ok",
     "timestamp": 1593506621855,
     "user": {
      "displayName": "franck Albinet",
      "photoUrl": "",
      "userId": "04749665539404912168"
     },
     "user_tz": -120
    },
    "id": "bGD3xp-Vwd0N",
    "outputId": "9ac67c37-f455-40fc-e70f-3201c8c10eeb"
   },
   "outputs": [
    {
     "name": "stdout",
     "output_type": "stream",
     "text": [
      "X shape:  (50714, 1764)\n",
      "X approx. memory size: 357 MB\n",
      "y approx. memory size: 1 MB\n",
      "Wavenumbers:  [3999 3997 3995 ...  603  601  599]\n",
      "Target variable:  ['lay_depth_to_top' 'order_id' 'calc_value']\n"
     ]
    }
   ],
   "source": [
    "print('X shape: ', X.shape)\n",
    "print('X approx. memory size: {} MB'.format(X.nbytes // 10**6))\n",
    "print('y approx. memory size: {} MB'.format(y.nbytes // 10**6))\n",
    "print('Wavenumbers: ', X_names)\n",
    "print('Target variable: ', y_names)"
   ]
  },
  {
   "cell_type": "markdown",
   "metadata": {
    "colab_type": "text",
    "id": "xiZkYs57fr6V"
   },
   "source": [
    "### 4. Data preparation and preprocessing"
   ]
  },
  {
   "cell_type": "code",
   "execution_count": 8,
   "metadata": {
    "colab": {
     "base_uri": "https://localhost:8080/",
     "height": 247
    },
    "colab_type": "code",
    "executionInfo": {
     "elapsed": 1784,
     "status": "ok",
     "timestamp": 1593506633016,
     "user": {
      "displayName": "franck Albinet",
      "photoUrl": "",
      "userId": "04749665539404912168"
     },
     "user_tz": -120
    },
    "id": "rVyEGFZs5Ge5",
    "outputId": "6a3e60b8-00ce-434e-8303-673b35081db9"
   },
   "outputs": [
    {
     "data": {
      "text/plain": [
       "{'alfisols': 0,\n",
       " 'mollisols': 1,\n",
       " 'inceptisols': 2,\n",
       " 'entisols': 3,\n",
       " 'spodosols': 4,\n",
       " nan: 5,\n",
       " 'ultisols': 6,\n",
       " 'andisols': 7,\n",
       " 'histosols': 8,\n",
       " 'oxisols': 9,\n",
       " 'vertisols': 10,\n",
       " 'aridisols': 11,\n",
       " 'gelisols': 12}"
      ]
     },
     "execution_count": 8,
     "metadata": {},
     "output_type": "execute_result"
    }
   ],
   "source": [
    "# Display taxonomic orders\n",
    "get_tax_orders_lookup_tbl()"
   ]
  },
  {
   "cell_type": "code",
   "execution_count": 9,
   "metadata": {
    "colab": {},
    "colab_type": "code",
    "executionInfo": {
     "elapsed": 1617,
     "status": "ok",
     "timestamp": 1593506649343,
     "user": {
      "displayName": "franck Albinet",
      "photoUrl": "",
      "userId": "04749665539404912168"
     },
     "user_tz": -120
    },
    "id": "4RzXRn87bMiK"
   },
   "outputs": [],
   "source": [
    "# Keeping data with analyte concentration > 0 only and for 'alfisols' taxonomic order only.\n",
    "TAX_ORDER_ID = 0\n",
    "\n",
    "idx_y_valid = y[:, -1] > 0\n",
    "idx_order = y[:,1] == TAX_ORDER_ID\n",
    "idx = idx_y_valid & idx_order\n",
    "\n",
    "X_subset = X[idx,:]\n",
    "y_subset = y[idx,:]"
   ]
  },
  {
   "cell_type": "code",
   "execution_count": 10,
   "metadata": {
    "colab": {
     "base_uri": "https://localhost:8080/",
     "height": 87
    },
    "colab_type": "code",
    "executionInfo": {
     "elapsed": 1104,
     "status": "ok",
     "timestamp": 1593506664752,
     "user": {
      "displayName": "franck Albinet",
      "photoUrl": "",
      "userId": "04749665539404912168"
     },
     "user_tz": -120
    },
    "id": "zE-T-mxAdUwp",
    "outputId": "27a1c86c-e411-4b88-ad0c-63e741a3ab34"
   },
   "outputs": [
    {
     "name": "stdout",
     "output_type": "stream",
     "text": [
      "X train shape:  (2982, 1764)\n",
      "X test shape:  (1988, 1764)\n",
      "y train shape:  (2982,)\n",
      "y test shape:  (1988,)\n"
     ]
    }
   ],
   "source": [
    "# Creating train, valid, test sets\n",
    "X_train, X_test, y_train, y_test = train_test_split(X_subset, y_subset[:, -1], test_size=0.40, random_state=42)\n",
    "\n",
    "print('X train shape: ', X_train.shape)\n",
    "print('X test shape: ', X_test.shape)\n",
    "print('y train shape: ', y_train.shape)\n",
    "print('y test shape: ', y_test.shape)"
   ]
  },
  {
   "cell_type": "markdown",
   "metadata": {
    "colab_type": "text",
    "id": "SWGNBfse5GfK"
   },
   "source": [
    "### 5. Fit  and fine-tune PLS model "
   ]
  },
  {
   "cell_type": "code",
   "execution_count": 404,
   "metadata": {},
   "outputs": [],
   "source": [
    "from sklearn.base import BaseEstimator, TransformerMixin\n",
    "\n",
    "class FlattenScattering(BaseEstimator, TransformerMixin):\n",
    "    def __init__(self, order0=False):\n",
    "        self.order0 = order0\n",
    "\n",
    "    def fit(self, X, y=None):\n",
    "        return self\n",
    "\n",
    "    def transform(self, X, y=None):\n",
    "        batch_size = X.shape[0]\n",
    "        return X[:, 1:, :].reshape(batch_size, -1)\n",
    "\n",
    "    \n",
    "class PruneScattering(BaseEstimator, TransformerMixin):\n",
    "    def __init__(self, q_features=90, q_keep=50):\n",
    "        self.q_features = q_features\n",
    "        self.q_keep = q_keep\n",
    "\n",
    "    def fit(self, X, y=None):\n",
    "        return self\n",
    "\n",
    "    def transform(self, X, y=None):\n",
    "        qs = np.percentile(X, self.q_features, axis=0)\n",
    "        idx = (qs >= np.percentile(qs, self.q_keep))\n",
    "        return X[:, idx]\n",
    "    \n",
    "    \n",
    "class Scattering1DTransformer(BaseEstimator, TransformerMixin):\n",
    "    def __init__(self, shape, J=4, Q=12):\n",
    "        self.shape = shape\n",
    "        self.J = J\n",
    "        self.Q = Q\n",
    "\n",
    "    def fit(self, X, y=None):\n",
    "        return self\n",
    "\n",
    "    def transform(self, X, y=None):        \n",
    "        scattering = Scattering1D(self.J, self.shape, self.Q)\n",
    "        return scattering(X)"
   ]
  },
  {
   "cell_type": "code",
   "execution_count": 437,
   "metadata": {},
   "outputs": [],
   "source": [
    "pipe = Pipeline([('norm1', MinMaxScaler()), \n",
    "                 ('scat', Scattering1DTransformer(X_train.shape[1], J=4, Q=12)),\n",
    "                 ('flatten', FlattenScattering(order0=False)),\n",
    "                 #('prune', PruneScattering(q_features=90, q_keep=50)),\n",
    "                 ('pca', PCA(n_components=40)),                 \n",
    "                 #('norm2', MinMaxScaler()),\n",
    "                 #('kbest', SelectKBest(f_regression, k=200)),\n",
    "                 ('model', RandomForestRegressor(n_estimators=20, max_depth=20))\n",
    "                ])"
   ]
  },
  {
   "cell_type": "code",
   "execution_count": 438,
   "metadata": {},
   "outputs": [],
   "source": [
    "model = pipe.fit(X_train, y_train)"
   ]
  },
  {
   "cell_type": "code",
   "execution_count": 439,
   "metadata": {},
   "outputs": [
    {
     "data": {
      "text/plain": [
       "0.8883710150195963"
      ]
     },
     "execution_count": 439,
     "metadata": {},
     "output_type": "execute_result"
    }
   ],
   "source": [
    "model.score(X_train, y_train)"
   ]
  },
  {
   "cell_type": "code",
   "execution_count": 440,
   "metadata": {},
   "outputs": [
    {
     "data": {
      "text/plain": [
       "0.2952016735548163"
      ]
     },
     "execution_count": 440,
     "metadata": {},
     "output_type": "execute_result"
    }
   ],
   "source": [
    "model.score(X_test, y_test)"
   ]
  },
  {
   "cell_type": "code",
   "execution_count": 212,
   "metadata": {},
   "outputs": [],
   "source": [
    "?Pipeline"
   ]
  },
  {
   "cell_type": "code",
   "execution_count": 200,
   "metadata": {},
   "outputs": [
    {
     "name": "stdout",
     "output_type": "stream",
     "text": [
      "Fitting 5 folds for each of 1 candidates, totalling 5 fits\n"
     ]
    },
    {
     "name": "stderr",
     "output_type": "stream",
     "text": [
      "[Parallel(n_jobs=1)]: Using backend SequentialBackend with 1 concurrent workers.\n",
      "[Parallel(n_jobs=1)]: Done   5 out of   5 | elapsed:  4.1min finished\n"
     ]
    },
    {
     "data": {
      "text/plain": [
       "GridSearchCV(cv=5, error_score='raise-deprecating',\n",
       "             estimator=Pipeline(memory=None,\n",
       "                                steps=[('norm1',\n",
       "                                        MinMaxScaler(copy=True,\n",
       "                                                     feature_range=(0, 1))),\n",
       "                                       ('scat',\n",
       "                                        Scattering1DTransformer(J=4, Q=12,\n",
       "                                                                shape=1764)),\n",
       "                                       ('post',\n",
       "                                        PostprocessScattering(order0=False)),\n",
       "                                       ('norm2',\n",
       "                                        MinMaxScaler(copy=True,\n",
       "                                                     feature_range=(0, 1))),\n",
       "                                       ('model',\n",
       "                                        PLSRegression(copy=True, max_iter=500,\n",
       "                                                      n_components=2,\n",
       "                                                      scale=True, tol=1e-06))],\n",
       "                                verbose=False),\n",
       "             iid='warn', n_jobs=None,\n",
       "             param_grid={'model__n_components': [15], 'post__order0': [False],\n",
       "                         'scat__J': [4], 'scat__Q': [12]},\n",
       "             pre_dispatch='2*n_jobs', refit=True, return_train_score=True,\n",
       "             scoring='r2', verbose=1)"
      ]
     },
     "execution_count": 200,
     "metadata": {},
     "output_type": "execute_result"
    }
   ],
   "source": [
    "# Set grid of hyper-parameters values to explore\n",
    "param_grid = {'scat__J': [4], \n",
    "              'scat__Q': [12],\n",
    "              'post__order0': [False],\n",
    "              'model__n_components': [15]}\n",
    "\n",
    "pipe = Pipeline([('norm1', MinMaxScaler()), \n",
    "                 ('scat', Scattering1DTransformer(X_train.shape[1])),\n",
    "                 ('post', PostprocessScattering()),\n",
    "                 ('norm2', MinMaxScaler()),\n",
    "                 ('model', PLSRegression())])\n",
    "\n",
    "grid_search = GridSearchCV(pipe, param_grid, cv=5, scoring='r2', return_train_score=True, verbose=1)\n",
    "grid_search.fit(X_train, y_train)"
   ]
  },
  {
   "cell_type": "code",
   "execution_count": 198,
   "metadata": {
    "colab": {
     "base_uri": "https://localhost:8080/",
     "height": 34
    },
    "colab_type": "code",
    "executionInfo": {
     "elapsed": 841,
     "status": "ok",
     "timestamp": 1593512667772,
     "user": {
      "displayName": "franck Albinet",
      "photoUrl": "",
      "userId": "04749665539404912168"
     },
     "user_tz": -120
    },
    "id": "Q4Na4QnulTdA",
    "outputId": "c46776d2-dde2-4d61-e1f5-2656307641db"
   },
   "outputs": [
    {
     "data": {
      "text/plain": [
       "{'model__n_components': 10, 'post__order0': False, 'scat__J': 3, 'scat__Q': 12}"
      ]
     },
     "execution_count": 198,
     "metadata": {},
     "output_type": "execute_result"
    }
   ],
   "source": [
    "# What is the \"best\" combination of hyper-parameters\n",
    "grid_search.best_params_"
   ]
  },
  {
   "cell_type": "code",
   "execution_count": 202,
   "metadata": {
    "colab": {
     "base_uri": "https://localhost:8080/",
     "height": 34
    },
    "colab_type": "code",
    "executionInfo": {
     "elapsed": 798,
     "status": "ok",
     "timestamp": 1593512669925,
     "user": {
      "displayName": "franck Albinet",
      "photoUrl": "",
      "userId": "04749665539404912168"
     },
     "user_tz": -120
    },
    "id": "YK8i0AyBp2mm",
    "outputId": "c66cfdf9-3aca-45c9-926d-1350d3bb11dc"
   },
   "outputs": [
    {
     "data": {
      "text/plain": [
       "0.3082851827093354"
      ]
     },
     "execution_count": 202,
     "metadata": {},
     "output_type": "execute_result"
    }
   ],
   "source": [
    "# What is the \"best\" score\n",
    "grid_search.best_score_"
   ]
  },
  {
   "cell_type": "code",
   "execution_count": 191,
   "metadata": {
    "colab": {
     "base_uri": "https://localhost:8080/",
     "height": 52
    },
    "colab_type": "code",
    "executionInfo": {
     "elapsed": 1214,
     "status": "ok",
     "timestamp": 1593512719077,
     "user": {
      "displayName": "franck Albinet",
      "photoUrl": "",
      "userId": "04749665539404912168"
     },
     "user_tz": -120
    },
    "id": "YLAmb25u5GgH",
    "outputId": "4940c0b1-a127-415d-f631-7040a736f88a"
   },
   "outputs": [
    {
     "name": "stdout",
     "output_type": "stream",
     "text": [
      "2982\n",
      "R2 on traint set with best estimator:  0.2751052075602598\n",
      "1988\n",
      "R2 on test set with best estimator:  0.18531344438923703\n"
     ]
    }
   ],
   "source": [
    "print('R2 on traint set with best estimator: ', grid_search.best_estimator_.score(X_train, y_train))\n",
    "print('R2 on test set with best estimator: ', grid_search.best_estimator_.score(X_test, y_test))"
   ]
  },
  {
   "cell_type": "code",
   "execution_count": null,
   "metadata": {},
   "outputs": [],
   "source": []
  }
 ],
 "metadata": {
  "colab": {
   "collapsed_sections": [],
   "name": "predicting-with-pls.ipynb",
   "provenance": [],
   "toc_visible": true
  },
  "kernelspec": {
   "display_name": "Python 3",
   "language": "python",
   "name": "python3"
  },
  "language_info": {
   "codemirror_mode": {
    "name": "ipython",
    "version": 3
   },
   "file_extension": ".py",
   "mimetype": "text/x-python",
   "name": "python",
   "nbconvert_exporter": "python",
   "pygments_lexer": "ipython3",
   "version": "3.7.6"
  }
 },
 "nbformat": 4,
 "nbformat_minor": 1
}
